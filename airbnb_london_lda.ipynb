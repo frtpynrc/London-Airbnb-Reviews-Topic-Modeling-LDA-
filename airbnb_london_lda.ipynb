{
  "nbformat": 4,
  "nbformat_minor": 0,
  "metadata": {
    "colab": {
      "provenance": [],
      "gpuType": "T4"
    },
    "kernelspec": {
      "name": "python3",
      "display_name": "Python 3"
    },
    "language_info": {
      "name": "python"
    },
    "accelerator": "GPU"
  },
  "cells": [
    {
      "cell_type": "code",
      "execution_count": 1,
      "metadata": {
        "colab": {
          "base_uri": "https://localhost:8080/",
          "height": 35
        },
        "id": "LkzFlqPMcymy",
        "outputId": "eacafe4e-e338-497a-df37-dd9ff2b5a0e3"
      },
      "outputs": [
        {
          "output_type": "execute_result",
          "data": {
            "text/plain": [
              "'/device:GPU:0'"
            ],
            "application/vnd.google.colaboratory.intrinsic+json": {
              "type": "string"
            }
          },
          "metadata": {},
          "execution_count": 1
        }
      ],
      "source": [
        "import tensorflow as tf\n",
        "tf.test.gpu_device_name()"
      ]
    },
    {
      "cell_type": "code",
      "source": [
        "from google.colab import drive\n",
        "drive.mount('/content/drive')"
      ],
      "metadata": {
        "colab": {
          "base_uri": "https://localhost:8080/"
        },
        "id": "YdSUMBGXdKZF",
        "outputId": "30f4ea95-bcad-4547-d6d4-5a0991e3cc96"
      },
      "execution_count": 2,
      "outputs": [
        {
          "output_type": "stream",
          "name": "stdout",
          "text": [
            "Drive already mounted at /content/drive; to attempt to forcibly remount, call drive.mount(\"/content/drive\", force_remount=True).\n"
          ]
        }
      ]
    },
    {
      "cell_type": "code",
      "source": [
        "import pandas as pd\n",
        "file_path = '/content/drive/MyDrive/Data/london_preprocessing.csv'\n",
        "df = pd.read_csv(file_path)"
      ],
      "metadata": {
        "id": "xT5sV5bBdhF7"
      },
      "execution_count": 3,
      "outputs": []
    },
    {
      "cell_type": "code",
      "source": [
        "df.drop(columns=['is_english'], inplace=True)"
      ],
      "metadata": {
        "id": "Hgb3E8gjgFZq"
      },
      "execution_count": 4,
      "outputs": []
    },
    {
      "cell_type": "code",
      "source": [
        "df.drop(columns=['id'], inplace=True)"
      ],
      "metadata": {
        "id": "RsCF3EHegJ5E"
      },
      "execution_count": 5,
      "outputs": []
    },
    {
      "cell_type": "code",
      "source": [
        "df.drop(columns=['reviewer_id'], inplace=True)"
      ],
      "metadata": {
        "id": "LapPuo4bgRdp"
      },
      "execution_count": 6,
      "outputs": []
    },
    {
      "cell_type": "code",
      "source": [
        "df.head()"
      ],
      "metadata": {
        "colab": {
          "base_uri": "https://localhost:8080/",
          "height": 206
        },
        "id": "QDPnFEbIfny_",
        "outputId": "6700d7a1-4f97-41a0-bda9-564fbabef9a5"
      },
      "execution_count": 7,
      "outputs": [
        {
          "output_type": "execute_result",
          "data": {
            "text/plain": [
              "   listing_id        date reviewer_name  \\\n",
              "0       13913  2022-09-16            Ye   \n",
              "1       13913  2022-09-20       Violeta   \n",
              "2       13913  2022-09-22     Alexander   \n",
              "3       13913  2022-09-23        Robert   \n",
              "4       13913  2022-09-26       Devaraj   \n",
              "\n",
              "                                            comments  \n",
              "0  Alina is a very generous and warm-hearted host...  \n",
              "1      Cancelled on the same day I arrived to London  \n",
              "2  Great flat for a short stay with everything yo...  \n",
              "3  Great stay again, Alina is friendly and welcom...  \n",
              "4           I had an excellent stay in Alina's place  "
            ],
            "text/html": [
              "\n",
              "  <div id=\"df-b0490b31-09fd-4739-8790-80cede57bf83\" class=\"colab-df-container\">\n",
              "    <div>\n",
              "<style scoped>\n",
              "    .dataframe tbody tr th:only-of-type {\n",
              "        vertical-align: middle;\n",
              "    }\n",
              "\n",
              "    .dataframe tbody tr th {\n",
              "        vertical-align: top;\n",
              "    }\n",
              "\n",
              "    .dataframe thead th {\n",
              "        text-align: right;\n",
              "    }\n",
              "</style>\n",
              "<table border=\"1\" class=\"dataframe\">\n",
              "  <thead>\n",
              "    <tr style=\"text-align: right;\">\n",
              "      <th></th>\n",
              "      <th>listing_id</th>\n",
              "      <th>date</th>\n",
              "      <th>reviewer_name</th>\n",
              "      <th>comments</th>\n",
              "    </tr>\n",
              "  </thead>\n",
              "  <tbody>\n",
              "    <tr>\n",
              "      <th>0</th>\n",
              "      <td>13913</td>\n",
              "      <td>2022-09-16</td>\n",
              "      <td>Ye</td>\n",
              "      <td>Alina is a very generous and warm-hearted host...</td>\n",
              "    </tr>\n",
              "    <tr>\n",
              "      <th>1</th>\n",
              "      <td>13913</td>\n",
              "      <td>2022-09-20</td>\n",
              "      <td>Violeta</td>\n",
              "      <td>Cancelled on the same day I arrived to London</td>\n",
              "    </tr>\n",
              "    <tr>\n",
              "      <th>2</th>\n",
              "      <td>13913</td>\n",
              "      <td>2022-09-22</td>\n",
              "      <td>Alexander</td>\n",
              "      <td>Great flat for a short stay with everything yo...</td>\n",
              "    </tr>\n",
              "    <tr>\n",
              "      <th>3</th>\n",
              "      <td>13913</td>\n",
              "      <td>2022-09-23</td>\n",
              "      <td>Robert</td>\n",
              "      <td>Great stay again, Alina is friendly and welcom...</td>\n",
              "    </tr>\n",
              "    <tr>\n",
              "      <th>4</th>\n",
              "      <td>13913</td>\n",
              "      <td>2022-09-26</td>\n",
              "      <td>Devaraj</td>\n",
              "      <td>I had an excellent stay in Alina's place</td>\n",
              "    </tr>\n",
              "  </tbody>\n",
              "</table>\n",
              "</div>\n",
              "    <div class=\"colab-df-buttons\">\n",
              "\n",
              "  <div class=\"colab-df-container\">\n",
              "    <button class=\"colab-df-convert\" onclick=\"convertToInteractive('df-b0490b31-09fd-4739-8790-80cede57bf83')\"\n",
              "            title=\"Convert this dataframe to an interactive table.\"\n",
              "            style=\"display:none;\">\n",
              "\n",
              "  <svg xmlns=\"http://www.w3.org/2000/svg\" height=\"24px\" viewBox=\"0 -960 960 960\">\n",
              "    <path d=\"M120-120v-720h720v720H120Zm60-500h600v-160H180v160Zm220 220h160v-160H400v160Zm0 220h160v-160H400v160ZM180-400h160v-160H180v160Zm440 0h160v-160H620v160ZM180-180h160v-160H180v160Zm440 0h160v-160H620v160Z\"/>\n",
              "  </svg>\n",
              "    </button>\n",
              "\n",
              "  <style>\n",
              "    .colab-df-container {\n",
              "      display:flex;\n",
              "      gap: 12px;\n",
              "    }\n",
              "\n",
              "    .colab-df-convert {\n",
              "      background-color: #E8F0FE;\n",
              "      border: none;\n",
              "      border-radius: 50%;\n",
              "      cursor: pointer;\n",
              "      display: none;\n",
              "      fill: #1967D2;\n",
              "      height: 32px;\n",
              "      padding: 0 0 0 0;\n",
              "      width: 32px;\n",
              "    }\n",
              "\n",
              "    .colab-df-convert:hover {\n",
              "      background-color: #E2EBFA;\n",
              "      box-shadow: 0px 1px 2px rgba(60, 64, 67, 0.3), 0px 1px 3px 1px rgba(60, 64, 67, 0.15);\n",
              "      fill: #174EA6;\n",
              "    }\n",
              "\n",
              "    .colab-df-buttons div {\n",
              "      margin-bottom: 4px;\n",
              "    }\n",
              "\n",
              "    [theme=dark] .colab-df-convert {\n",
              "      background-color: #3B4455;\n",
              "      fill: #D2E3FC;\n",
              "    }\n",
              "\n",
              "    [theme=dark] .colab-df-convert:hover {\n",
              "      background-color: #434B5C;\n",
              "      box-shadow: 0px 1px 3px 1px rgba(0, 0, 0, 0.15);\n",
              "      filter: drop-shadow(0px 1px 2px rgba(0, 0, 0, 0.3));\n",
              "      fill: #FFFFFF;\n",
              "    }\n",
              "  </style>\n",
              "\n",
              "    <script>\n",
              "      const buttonEl =\n",
              "        document.querySelector('#df-b0490b31-09fd-4739-8790-80cede57bf83 button.colab-df-convert');\n",
              "      buttonEl.style.display =\n",
              "        google.colab.kernel.accessAllowed ? 'block' : 'none';\n",
              "\n",
              "      async function convertToInteractive(key) {\n",
              "        const element = document.querySelector('#df-b0490b31-09fd-4739-8790-80cede57bf83');\n",
              "        const dataTable =\n",
              "          await google.colab.kernel.invokeFunction('convertToInteractive',\n",
              "                                                    [key], {});\n",
              "        if (!dataTable) return;\n",
              "\n",
              "        const docLinkHtml = 'Like what you see? Visit the ' +\n",
              "          '<a target=\"_blank\" href=https://colab.research.google.com/notebooks/data_table.ipynb>data table notebook</a>'\n",
              "          + ' to learn more about interactive tables.';\n",
              "        element.innerHTML = '';\n",
              "        dataTable['output_type'] = 'display_data';\n",
              "        await google.colab.output.renderOutput(dataTable, element);\n",
              "        const docLink = document.createElement('div');\n",
              "        docLink.innerHTML = docLinkHtml;\n",
              "        element.appendChild(docLink);\n",
              "      }\n",
              "    </script>\n",
              "  </div>\n",
              "\n",
              "\n",
              "<div id=\"df-448ddc3a-58ec-498d-91da-072d84c1dd1b\">\n",
              "  <button class=\"colab-df-quickchart\" onclick=\"quickchart('df-448ddc3a-58ec-498d-91da-072d84c1dd1b')\"\n",
              "            title=\"Suggest charts\"\n",
              "            style=\"display:none;\">\n",
              "\n",
              "<svg xmlns=\"http://www.w3.org/2000/svg\" height=\"24px\"viewBox=\"0 0 24 24\"\n",
              "     width=\"24px\">\n",
              "    <g>\n",
              "        <path d=\"M19 3H5c-1.1 0-2 .9-2 2v14c0 1.1.9 2 2 2h14c1.1 0 2-.9 2-2V5c0-1.1-.9-2-2-2zM9 17H7v-7h2v7zm4 0h-2V7h2v10zm4 0h-2v-4h2v4z\"/>\n",
              "    </g>\n",
              "</svg>\n",
              "  </button>\n",
              "\n",
              "<style>\n",
              "  .colab-df-quickchart {\n",
              "      --bg-color: #E8F0FE;\n",
              "      --fill-color: #1967D2;\n",
              "      --hover-bg-color: #E2EBFA;\n",
              "      --hover-fill-color: #174EA6;\n",
              "      --disabled-fill-color: #AAA;\n",
              "      --disabled-bg-color: #DDD;\n",
              "  }\n",
              "\n",
              "  [theme=dark] .colab-df-quickchart {\n",
              "      --bg-color: #3B4455;\n",
              "      --fill-color: #D2E3FC;\n",
              "      --hover-bg-color: #434B5C;\n",
              "      --hover-fill-color: #FFFFFF;\n",
              "      --disabled-bg-color: #3B4455;\n",
              "      --disabled-fill-color: #666;\n",
              "  }\n",
              "\n",
              "  .colab-df-quickchart {\n",
              "    background-color: var(--bg-color);\n",
              "    border: none;\n",
              "    border-radius: 50%;\n",
              "    cursor: pointer;\n",
              "    display: none;\n",
              "    fill: var(--fill-color);\n",
              "    height: 32px;\n",
              "    padding: 0;\n",
              "    width: 32px;\n",
              "  }\n",
              "\n",
              "  .colab-df-quickchart:hover {\n",
              "    background-color: var(--hover-bg-color);\n",
              "    box-shadow: 0 1px 2px rgba(60, 64, 67, 0.3), 0 1px 3px 1px rgba(60, 64, 67, 0.15);\n",
              "    fill: var(--button-hover-fill-color);\n",
              "  }\n",
              "\n",
              "  .colab-df-quickchart-complete:disabled,\n",
              "  .colab-df-quickchart-complete:disabled:hover {\n",
              "    background-color: var(--disabled-bg-color);\n",
              "    fill: var(--disabled-fill-color);\n",
              "    box-shadow: none;\n",
              "  }\n",
              "\n",
              "  .colab-df-spinner {\n",
              "    border: 2px solid var(--fill-color);\n",
              "    border-color: transparent;\n",
              "    border-bottom-color: var(--fill-color);\n",
              "    animation:\n",
              "      spin 1s steps(1) infinite;\n",
              "  }\n",
              "\n",
              "  @keyframes spin {\n",
              "    0% {\n",
              "      border-color: transparent;\n",
              "      border-bottom-color: var(--fill-color);\n",
              "      border-left-color: var(--fill-color);\n",
              "    }\n",
              "    20% {\n",
              "      border-color: transparent;\n",
              "      border-left-color: var(--fill-color);\n",
              "      border-top-color: var(--fill-color);\n",
              "    }\n",
              "    30% {\n",
              "      border-color: transparent;\n",
              "      border-left-color: var(--fill-color);\n",
              "      border-top-color: var(--fill-color);\n",
              "      border-right-color: var(--fill-color);\n",
              "    }\n",
              "    40% {\n",
              "      border-color: transparent;\n",
              "      border-right-color: var(--fill-color);\n",
              "      border-top-color: var(--fill-color);\n",
              "    }\n",
              "    60% {\n",
              "      border-color: transparent;\n",
              "      border-right-color: var(--fill-color);\n",
              "    }\n",
              "    80% {\n",
              "      border-color: transparent;\n",
              "      border-right-color: var(--fill-color);\n",
              "      border-bottom-color: var(--fill-color);\n",
              "    }\n",
              "    90% {\n",
              "      border-color: transparent;\n",
              "      border-bottom-color: var(--fill-color);\n",
              "    }\n",
              "  }\n",
              "</style>\n",
              "\n",
              "  <script>\n",
              "    async function quickchart(key) {\n",
              "      const quickchartButtonEl =\n",
              "        document.querySelector('#' + key + ' button');\n",
              "      quickchartButtonEl.disabled = true;  // To prevent multiple clicks.\n",
              "      quickchartButtonEl.classList.add('colab-df-spinner');\n",
              "      try {\n",
              "        const charts = await google.colab.kernel.invokeFunction(\n",
              "            'suggestCharts', [key], {});\n",
              "      } catch (error) {\n",
              "        console.error('Error during call to suggestCharts:', error);\n",
              "      }\n",
              "      quickchartButtonEl.classList.remove('colab-df-spinner');\n",
              "      quickchartButtonEl.classList.add('colab-df-quickchart-complete');\n",
              "    }\n",
              "    (() => {\n",
              "      let quickchartButtonEl =\n",
              "        document.querySelector('#df-448ddc3a-58ec-498d-91da-072d84c1dd1b button');\n",
              "      quickchartButtonEl.style.display =\n",
              "        google.colab.kernel.accessAllowed ? 'block' : 'none';\n",
              "    })();\n",
              "  </script>\n",
              "</div>\n",
              "    </div>\n",
              "  </div>\n"
            ]
          },
          "metadata": {},
          "execution_count": 7
        }
      ]
    },
    {
      "cell_type": "code",
      "source": [
        "# Import necessary libraries\n",
        "import pandas as pd                   # For data manipulation\n",
        "import matplotlib.pyplot as plt       # For plotting\n",
        "import re                             # For regular expressions\n",
        "from pprint import pprint             # For pretty-printing\n",
        "\n",
        "# Gensim: A topic modeling library\n",
        "import gensim\n",
        "import gensim.corpora as corpora\n",
        "from gensim.utils import simple_preprocess\n",
        "from gensim.models import CoherenceModel\n",
        "\n",
        "# spaCy: A natural language processing library for lemmatization\n",
        "import spacy\n",
        "\n",
        "# Visualization tools\n",
        "import pyLDAvis\n",
        "import pyLDAvis.gensim\n",
        "import matplotlib.pyplot as plt       # Matplotlib for additional plotting\n",
        "%matplotlib inline\n",
        "\n",
        "# Enable logging for Gensim\n",
        "import logging\n",
        "logging.basicConfig(format='%(asctime)s : %(levelname)s : %(message)s', level=logging.ERROR)\n",
        "\n",
        "# Ignore deprecation warnings during execution\n",
        "import warnings\n",
        "warnings.filterwarnings(\"ignore\",category=DeprecationWarning)\n",
        "\n"
      ],
      "metadata": {
        "id": "mmASMHFwg3cj"
      },
      "execution_count": 8,
      "outputs": []
    },
    {
      "cell_type": "code",
      "source": [
        "pip install pyLDAvis"
      ],
      "metadata": {
        "colab": {
          "base_uri": "https://localhost:8080/"
        },
        "id": "6rBfgYdggr2_",
        "outputId": "a4c00872-2c3f-4a50-eda6-60395ff8f223"
      },
      "execution_count": 9,
      "outputs": [
        {
          "output_type": "stream",
          "name": "stdout",
          "text": [
            "Requirement already satisfied: pyLDAvis in /usr/local/lib/python3.10/dist-packages (3.4.1)\n",
            "Requirement already satisfied: numpy>=1.24.2 in /usr/local/lib/python3.10/dist-packages (from pyLDAvis) (1.26.2)\n",
            "Requirement already satisfied: scipy in /usr/local/lib/python3.10/dist-packages (from pyLDAvis) (1.11.3)\n",
            "Requirement already satisfied: pandas>=2.0.0 in /usr/local/lib/python3.10/dist-packages (from pyLDAvis) (2.1.3)\n",
            "Requirement already satisfied: joblib>=1.2.0 in /usr/local/lib/python3.10/dist-packages (from pyLDAvis) (1.3.2)\n",
            "Requirement already satisfied: jinja2 in /usr/local/lib/python3.10/dist-packages (from pyLDAvis) (3.1.2)\n",
            "Requirement already satisfied: numexpr in /usr/local/lib/python3.10/dist-packages (from pyLDAvis) (2.8.7)\n",
            "Requirement already satisfied: funcy in /usr/local/lib/python3.10/dist-packages (from pyLDAvis) (2.0)\n",
            "Requirement already satisfied: scikit-learn>=1.0.0 in /usr/local/lib/python3.10/dist-packages (from pyLDAvis) (1.2.2)\n",
            "Requirement already satisfied: gensim in /usr/local/lib/python3.10/dist-packages (from pyLDAvis) (4.3.2)\n",
            "Requirement already satisfied: setuptools in /usr/local/lib/python3.10/dist-packages (from pyLDAvis) (67.7.2)\n",
            "Requirement already satisfied: python-dateutil>=2.8.2 in /usr/local/lib/python3.10/dist-packages (from pandas>=2.0.0->pyLDAvis) (2.8.2)\n",
            "Requirement already satisfied: pytz>=2020.1 in /usr/local/lib/python3.10/dist-packages (from pandas>=2.0.0->pyLDAvis) (2023.3.post1)\n",
            "Requirement already satisfied: tzdata>=2022.1 in /usr/local/lib/python3.10/dist-packages (from pandas>=2.0.0->pyLDAvis) (2023.3)\n",
            "Requirement already satisfied: threadpoolctl>=2.0.0 in /usr/local/lib/python3.10/dist-packages (from scikit-learn>=1.0.0->pyLDAvis) (3.2.0)\n",
            "Requirement already satisfied: smart-open>=1.8.1 in /usr/local/lib/python3.10/dist-packages (from gensim->pyLDAvis) (6.4.0)\n",
            "Requirement already satisfied: MarkupSafe>=2.0 in /usr/local/lib/python3.10/dist-packages (from jinja2->pyLDAvis) (2.1.3)\n",
            "Requirement already satisfied: six>=1.5 in /usr/local/lib/python3.10/dist-packages (from python-dateutil>=2.8.2->pandas>=2.0.0->pyLDAvis) (1.16.0)\n"
          ]
        }
      ]
    },
    {
      "cell_type": "code",
      "source": [
        "import nltk; nltk.download('stopwords')"
      ],
      "metadata": {
        "colab": {
          "base_uri": "https://localhost:8080/"
        },
        "id": "1eE1bqDAiywT",
        "outputId": "b5e06ad6-aa56-4e61-f4d8-9eb0b275b447"
      },
      "execution_count": 10,
      "outputs": [
        {
          "output_type": "stream",
          "name": "stderr",
          "text": [
            "[nltk_data] Downloading package stopwords to /root/nltk_data...\n",
            "[nltk_data]   Package stopwords is already up-to-date!\n"
          ]
        },
        {
          "output_type": "execute_result",
          "data": {
            "text/plain": [
              "True"
            ]
          },
          "metadata": {},
          "execution_count": 10
        }
      ]
    },
    {
      "cell_type": "code",
      "source": [
        "# Import the stopwords module from NLTK (Natural Language Toolkit)\n",
        "from nltk.corpus import stopwords\n",
        "\n",
        "# Retrieve the set of English stopwords\n",
        "stop_words = stopwords.words('english')\n"
      ],
      "metadata": {
        "id": "l9Tw0YM8i51W"
      },
      "execution_count": 11,
      "outputs": []
    },
    {
      "cell_type": "code",
      "source": [
        "# Define a function to tokenize sentences into words using Gensim's simple_preprocess\n",
        "def sent_to_words(sentences):\n",
        "    for sentence in sentences:\n",
        "        # Yield a list of lowercase words after simple preprocessing (removing accents)\n",
        "        yield(gensim.utils.simple_preprocess(str(sentence), deacc=True))\n",
        "\n",
        "# Apply the tokenization function to the 'comments' column of the DataFrame\n",
        "data_words = list(sent_to_words(df['comments']))\n",
        "\n",
        "# Print the tokenized words for the first sentence in the DataFrame\n",
        "print(data_words[:1])\n"
      ],
      "metadata": {
        "colab": {
          "base_uri": "https://localhost:8080/"
        },
        "id": "JW32YvNXi9rA",
        "outputId": "9ae4dc9f-5eb8-4a6e-f1a6-a0c95b1eaca2"
      },
      "execution_count": 12,
      "outputs": [
        {
          "output_type": "stream",
          "name": "stdout",
          "text": [
            "[['alina', 'is', 'very', 'generous', 'and', 'warm', 'hearted', 'host', 'staying', 'with', 'her', 'is', 'very', 'chill', 'and', 'relaxed', 'will', 'feel', 'just', 'like', 'home', 'strongly', 'recommended', 'especially', 'if', 'are', 'traveling', 'alone']]\n"
          ]
        }
      ]
    },
    {
      "cell_type": "code",
      "source": [
        "# Build the bigram and trigram models\n",
        "bigram = gensim.models.Phrases(data_words, min_count=5, threshold=100) # higher threshold fewer phrases.\n",
        "trigram = gensim.models.Phrases(bigram[data_words], threshold=100)\n",
        "\n",
        "# Faster way to get a sentence clubbed as a trigram/bigram\n",
        "bigram_mod = gensim.models.phrases.Phraser(bigram)\n",
        "trigram_mod = gensim.models.phrases.Phraser(trigram)\n",
        "\n",
        "# See trigram example\n",
        "print(trigram_mod[bigram_mod[data_words[0]]])"
      ],
      "metadata": {
        "colab": {
          "base_uri": "https://localhost:8080/"
        },
        "id": "3lqiykLHjBjk",
        "outputId": "81130ec7-e208-49e0-dce1-ecca8b5b5c65"
      },
      "execution_count": 13,
      "outputs": [
        {
          "output_type": "stream",
          "name": "stdout",
          "text": [
            "['alina', 'is', 'very', 'generous', 'and', 'warm', 'hearted', 'host', 'staying', 'with', 'her', 'is', 'very', 'chill', 'and', 'relaxed', 'will', 'feel', 'just', 'like', 'home', 'strongly', 'recommended', 'especially', 'if', 'are', 'traveling', 'alone']\n"
          ]
        }
      ]
    },
    {
      "cell_type": "code",
      "source": [
        "# Define functions for stopwords, bigrams, trigrams and lemmatization\n",
        "def remove_stopwords(texts):\n",
        "    return [[word for word in simple_preprocess(str(doc)) if word not in stop_words] for doc in texts]\n",
        "\n",
        "def lemmatization(texts, allowed_postags=['NOUN', 'ADJ', 'VERB', 'ADV']):\n",
        "    \"\"\"https://spacy.io/api/annotation\"\"\"\n",
        "    texts_out = []\n",
        "    for sent in texts:\n",
        "        doc = nlp(\" \".join(sent))\n",
        "        texts_out.append([token.lemma_ for token in doc if token.pos_ in allowed_postags])\n",
        "    return texts_out\n",
        "\n",
        "def make_bigrams(texts):\n",
        "    return [bigram_mod[doc] for doc in texts]\n",
        "\n",
        "def make_trigrams(texts):\n",
        "    return [trigram_mod[bigram_mod[doc]] for doc in texts]"
      ],
      "metadata": {
        "id": "O3pjElfsjEip"
      },
      "execution_count": 14,
      "outputs": []
    },
    {
      "cell_type": "code",
      "source": [
        "# Remove Stop Words\n",
        "data_words_nostops = remove_stopwords(data_words)\n",
        "\n",
        "# Form Bigrams\n",
        "data_words_bigrams = make_bigrams(data_words_nostops)\n",
        "\n",
        "# Initialize spaCy 'en' model, keeping only tagger component (for efficiency)\n",
        "# python3 -m spaCy download en\n",
        "nlp = spacy.load('en_core_web_sm', disable=['parser', 'ner'])\n",
        "\n",
        "# Perform lemmatization keeping noun, adjective, verb, and adverb\n",
        "data_lemmatized = lemmatization(data_words_bigrams, allowed_postags=['NOUN', 'ADJ', 'VERB', 'ADV'])\n",
        "\n",
        "print(data_lemmatized[:1])"
      ],
      "metadata": {
        "colab": {
          "base_uri": "https://localhost:8080/"
        },
        "id": "stYBgCKrjJZx",
        "outputId": "e57e2021-590f-48c1-89af-f4ceee952b53"
      },
      "execution_count": 15,
      "outputs": [
        {
          "output_type": "stream",
          "name": "stdout",
          "text": [
            "[['generous', 'warm', 'hearted', 'host', 'stay', 'chill', 'relaxed', 'feel', 'home', 'strongly', 'recommend', 'especially', 'travel', 'alone']]\n"
          ]
        }
      ]
    },
    {
      "cell_type": "code",
      "source": [
        "# Create Dictionary\n",
        "id2word = corpora.Dictionary(data_lemmatized)\n",
        "\n",
        "# Create Corpus\n",
        "texts = data_lemmatized\n",
        "\n",
        "# Term Document Frequency\n",
        "corpus = [id2word.doc2bow(text) for text in texts]\n",
        "\n",
        "# View\n",
        "print(corpus[:1])"
      ],
      "metadata": {
        "colab": {
          "base_uri": "https://localhost:8080/"
        },
        "id": "1fdLwPWRjUoI",
        "outputId": "9fdc2f61-eb8d-48c9-848a-0734c66054a4"
      },
      "execution_count": 16,
      "outputs": [
        {
          "output_type": "stream",
          "name": "stdout",
          "text": [
            "[[(0, 1), (1, 1), (2, 1), (3, 1), (4, 1), (5, 1), (6, 1), (7, 1), (8, 1), (9, 1), (10, 1), (11, 1), (12, 1), (13, 1)]]\n"
          ]
        }
      ]
    },
    {
      "cell_type": "code",
      "source": [
        "id2word[0]"
      ],
      "metadata": {
        "colab": {
          "base_uri": "https://localhost:8080/",
          "height": 35
        },
        "id": "LdIAg0PzkTbn",
        "outputId": "53c66852-c026-4e1b-ae78-18be0265fc95"
      },
      "execution_count": 17,
      "outputs": [
        {
          "output_type": "execute_result",
          "data": {
            "text/plain": [
              "'alone'"
            ],
            "application/vnd.google.colaboratory.intrinsic+json": {
              "type": "string"
            }
          },
          "metadata": {},
          "execution_count": 17
        }
      ]
    },
    {
      "cell_type": "code",
      "source": [
        "# Human readable format of corpus (term-frequency)\n",
        "[[(id2word[id], freq) for id, freq in cp] for cp in corpus[:1]]"
      ],
      "metadata": {
        "colab": {
          "base_uri": "https://localhost:8080/"
        },
        "id": "_daHtny2kYU_",
        "outputId": "e7453440-21f4-428f-a0eb-3cfd43fe2732"
      },
      "execution_count": 18,
      "outputs": [
        {
          "output_type": "execute_result",
          "data": {
            "text/plain": [
              "[[('alone', 1),\n",
              "  ('chill', 1),\n",
              "  ('especially', 1),\n",
              "  ('feel', 1),\n",
              "  ('generous', 1),\n",
              "  ('hearted', 1),\n",
              "  ('home', 1),\n",
              "  ('host', 1),\n",
              "  ('recommend', 1),\n",
              "  ('relaxed', 1),\n",
              "  ('stay', 1),\n",
              "  ('strongly', 1),\n",
              "  ('travel', 1),\n",
              "  ('warm', 1)]]"
            ]
          },
          "metadata": {},
          "execution_count": 18
        }
      ]
    },
    {
      "cell_type": "code",
      "source": [
        "# Build LDA model\n",
        "lda_model = gensim.models.ldamodel.LdaModel(corpus=corpus,\n",
        "                                           id2word=id2word,\n",
        "                                           num_topics=12,\n",
        "                                           random_state=100,\n",
        "                                           update_every=1,\n",
        "                                           chunksize=100,\n",
        "                                           passes=10,\n",
        "                                           alpha='auto',\n",
        "                                           per_word_topics=True)"
      ],
      "metadata": {
        "id": "XePLvqsykfjP"
      },
      "execution_count": 24,
      "outputs": []
    },
    {
      "cell_type": "code",
      "source": [
        "# Print the Keyword in the 10 topics\n",
        "pprint(lda_model.print_topics())\n",
        "doc_lda = lda_model[corpus]"
      ],
      "metadata": {
        "colab": {
          "base_uri": "https://localhost:8080/"
        },
        "id": "KRJWqVD2kk43",
        "outputId": "a8a44ec4-92e1-4e1b-b7f0-2883835442f1"
      },
      "execution_count": 25,
      "outputs": [
        {
          "output_type": "stream",
          "name": "stdout",
          "text": [
            "[(0,\n",
            "  '0.188*\"beautiful\" + 0.118*\"short\" + 0.071*\"view\" + 0.066*\"modern\" + '\n",
            "  '0.058*\"garden\" + 0.052*\"early\" + 0.047*\"neighbourhood\" + 0.044*\"touch\" + '\n",
            "  '0.039*\"recommendation\" + 0.029*\"whole\"'),\n",
            " (1,\n",
            "  '0.050*\"time\" + 0.033*\"br\" + 0.032*\"go\" + 0.031*\"book\" + 0.028*\"house\" + '\n",
            "  '0.027*\"look\" + 0.027*\"experience\" + 0.026*\"even\" + 0.025*\"much\" + '\n",
            "  '0.024*\"provide\"'),\n",
            " (2,\n",
            "  '0.116*\"make\" + 0.109*\"feel\" + 0.103*\"home\" + 0.053*\"right\" + '\n",
            "  '0.048*\"welcome\" + 0.033*\"tidy\" + 0.028*\"safe\" + 0.027*\"sure\" + '\n",
            "  '0.026*\"coffee\" + 0.024*\"comfy\"'),\n",
            " (3,\n",
            "  '0.103*\"people\" + 0.064*\"problem\" + 0.050*\"cosy\" + 0.049*\"ideal\" + '\n",
            "  '0.046*\"communicate\" + 0.046*\"toilet\" + 0.041*\"noisy\" + 0.034*\"facility\" + '\n",
            "  '0.030*\"service\" + 0.028*\"care\"'),\n",
            " (4,\n",
            "  '0.045*\"work\" + 0.043*\"use\" + 0.040*\"overall\" + 0.034*\"park\" + 0.029*\"door\" '\n",
            "  '+ 0.029*\"shower\" + 0.024*\"guest\" + 0.022*\"towel\" + 0.021*\"water\" + '\n",
            "  '0.020*\"key\"'),\n",
            " (5,\n",
            "  '0.127*\"walk\" + 0.110*\"station\" + 0.071*\"minute\" + 0.049*\"property\" + '\n",
            "  '0.049*\"bus\" + 0.045*\"shop\" + 0.041*\"away\" + 0.037*\"train\" + 0.035*\"min\" + '\n",
            "  '0.034*\"distance\"'),\n",
            " (6,\n",
            "  '0.083*\"easy\" + 0.068*\"check\" + 0.064*\"get\" + 0.054*\"also\" + 0.043*\"night\" + '\n",
            "  '0.036*\"super\" + 0.036*\"day\" + 0.034*\"find\" + 0.029*\"excellent\" + '\n",
            "  '0.026*\"little\"'),\n",
            " (7,\n",
            "  '0.095*\"instruction\" + 0.087*\"describe\" + 0.082*\"transport\" + '\n",
            "  '0.081*\"question\" + 0.073*\"clear\" + 0.062*\"public\" + 0.057*\"couple\" + '\n",
            "  '0.055*\"flexible\" + 0.040*\"let\" + 0.038*\"answer\"'),\n",
            " (8,\n",
            "  '0.086*\"stay\" + 0.065*\"great\" + 0.060*\"place\" + 0.055*\"host\" + '\n",
            "  '0.042*\"location\" + 0.041*\"clean\" + 0.032*\"recommend\" + 0.031*\"apartment\" + '\n",
            "  '0.031*\"good\" + 0.027*\"nice\"'),\n",
            " (9,\n",
            "  '0.157*\"street\" + 0.095*\"large\" + 0.093*\"happy\" + 0.083*\"noise\" + '\n",
            "  '0.060*\"basic\" + 0.041*\"mention\" + 0.038*\"unfortunately\" + 0.033*\"table\" + '\n",
            "  '0.029*\"anywhere\" + 0.027*\"sit\"'),\n",
            " (10,\n",
            "  '0.117*\"back\" + 0.114*\"come\" + 0.071*\"fantastic\" + 0.061*\"many\" + '\n",
            "  '0.035*\"way\" + 0.029*\"cafe\" + 0.028*\"future\" + 0.028*\"bar\" + 0.024*\"studio\" '\n",
            "  '+ 0.023*\"option\"'),\n",
            " (11,\n",
            "  '0.104*\"room\" + 0.061*\"bed\" + 0.043*\"kitchen\" + 0.042*\"bathroom\" + '\n",
            "  '0.028*\"bedroom\" + 0.025*\"small\" + 0.023*\"issue\" + 0.021*\"price\" + '\n",
            "  '0.019*\"sleep\" + 0.018*\"floor\"')]\n"
          ]
        }
      ]
    },
    {
      "cell_type": "code",
      "source": [
        "# Compute Perplexity\n",
        "print('\\nPerplexity: ', lda_model.log_perplexity(corpus))  # a measure of how good the model is. lower the better.\n",
        "\n",
        "# Compute Coherence Score\n",
        "coherence_model_lda = CoherenceModel(model=lda_model, texts=data_lemmatized, dictionary=id2word, coherence='c_v')\n",
        "coherence_lda = coherence_model_lda.get_coherence()\n",
        "print('\\nCoherence Score: ', coherence_lda)"
      ],
      "metadata": {
        "colab": {
          "base_uri": "https://localhost:8080/"
        },
        "id": "2OhCyJRSkrqm",
        "outputId": "8412a945-5704-40b8-d3db-64219fa65d72"
      },
      "execution_count": 26,
      "outputs": [
        {
          "output_type": "stream",
          "name": "stdout",
          "text": [
            "\n",
            "Perplexity:  -7.430821670848125\n",
            "\n",
            "Coherence Score:  0.5891107436248401\n"
          ]
        }
      ]
    },
    {
      "cell_type": "code",
      "source": [
        "# Visualize the topics\n",
        "pyLDAvis.enable_notebook()\n",
        "visualization = pyLDAvis.gensim.prepare(lda_model, corpus, id2word)\n",
        "visualization"
      ],
      "metadata": {
        "colab": {
          "base_uri": "https://localhost:8080/",
          "height": 861
        },
        "id": "4Q01lo61kwrE",
        "outputId": "8cd48ae8-dd3a-4c3c-aa3d-f24791fabdd6"
      },
      "execution_count": 27,
      "outputs": [
        {
          "output_type": "execute_result",
          "data": {
            "text/plain": [
              "PreparedData(topic_coordinates=              x         y  topics  cluster       Freq\n",
              "topic                                                \n",
              "8      0.310817 -0.113328       1        1  39.250814\n",
              "1      0.130482 -0.073639       2        1  11.047186\n",
              "6      0.113061 -0.069703       3        1  10.510515\n",
              "11     0.091927 -0.073314       4        1   9.651817\n",
              "5      0.043624  0.316606       5        1   6.492246\n",
              "4      0.036550  0.312124       6        1   6.274555\n",
              "2      0.000930 -0.059886       7        1   5.687512\n",
              "10    -0.105542 -0.052565       8        1   3.210798\n",
              "7     -0.142309 -0.049128       9        1   2.301354\n",
              "0     -0.142362 -0.049179      10        1   2.240906\n",
              "3     -0.156445 -0.047497      11        1   2.066308\n",
              "9     -0.180734 -0.040490      12        1   1.265989, topic_info=           Term           Freq          Total Category  logprob  loglift\n",
              "10         stay  270899.000000  270899.000000  Default  30.0000  30.0000\n",
              "20        great  205457.000000  205457.000000  Default  29.0000  29.0000\n",
              "29         room   80097.000000   80097.000000  Default  28.0000  28.0000\n",
              "65         walk   65980.000000   65980.000000  Default  27.0000  27.0000\n",
              "32        place  189204.000000  189204.000000  Default  26.0000  26.0000\n",
              "...         ...            ...            ...      ...      ...      ...\n",
              "315        rule     862.212908     863.195864  Topic12  -4.7673   4.3682\n",
              "1548  sensitive     772.913673     773.896622  Topic12  -4.8767   4.3680\n",
              "366        heat     720.841973     721.824908  Topic12  -4.9464   4.3680\n",
              "3558      roomy     569.680005     570.662938  Topic12  -5.1818   4.3676\n",
              "2557       roof     569.017677     570.000620  Topic12  -5.1829   4.3676\n",
              "\n",
              "[391 rows x 6 columns], token_table=      Topic      Freq          Term\n",
              "term                               \n",
              "550       3  0.999879          able\n",
              "595       3  0.999955    absolutely\n",
              "67        3  0.999941        access\n",
              "1740     10  0.999022    accomodate\n",
              "567      10  0.999408  accomodation\n",
              "...     ...       ...           ...\n",
              "1408     10  0.999856         whole\n",
              "499       3  0.999948        window\n",
              "104       6  0.999960          work\n",
              "602       5  0.999910         worth\n",
              "234      12  0.999138          zone\n",
              "\n",
              "[362 rows x 3 columns], R=30, lambda_step=0.01, plot_opts={'xlab': 'PC1', 'ylab': 'PC2'}, topic_order=[9, 2, 7, 12, 6, 5, 3, 11, 8, 1, 4, 10])"
            ],
            "text/html": [
              "\n",
              "<link rel=\"stylesheet\" type=\"text/css\" href=\"https://cdn.jsdelivr.net/gh/bmabey/pyLDAvis@3.4.0/pyLDAvis/js/ldavis.v1.0.0.css\">\n",
              "\n",
              "\n",
              "<div id=\"ldavis_el101011337124520852163035464989\" style=\"background-color:white;\"></div>\n",
              "<script type=\"text/javascript\">\n",
              "\n",
              "var ldavis_el101011337124520852163035464989_data = {\"mdsDat\": {\"x\": [0.3108168290459851, 0.13048233801695952, 0.11306094168126593, 0.09192718716197829, 0.04362418460127194, 0.03655013445074848, 0.0009302226116350331, -0.10554207292070855, -0.14230918804017448, -0.14236172837134878, -0.15644484484146037, -0.18073400339615098], \"y\": [-0.11332820206670687, -0.07363863904037896, -0.06970305056326229, -0.07331442413490681, 0.31660550885755023, 0.31212385197842235, -0.05988568507303869, -0.052565193632839353, -0.049128192643826535, -0.04917875332036314, -0.04749736332152701, -0.04048985703912272], \"topics\": [1, 2, 3, 4, 5, 6, 7, 8, 9, 10, 11, 12], \"cluster\": [1, 1, 1, 1, 1, 1, 1, 1, 1, 1, 1, 1], \"Freq\": [39.25081446128434, 11.047185693358093, 10.510514896879583, 9.651817100327655, 6.492246316555798, 6.274554896356081, 5.687511988030122, 3.2107982882538515, 2.3013539367116853, 2.240905516319015, 2.0663080385691357, 1.265988867354639]}, \"tinfo\": {\"Term\": [\"stay\", \"great\", \"room\", \"walk\", \"place\", \"host\", \"easy\", \"station\", \"make\", \"feel\", \"home\", \"check\", \"beautiful\", \"location\", \"get\", \"clean\", \"bed\", \"back\", \"also\", \"minute\", \"come\", \"time\", \"recommend\", \"apartment\", \"good\", \"night\", \"short\", \"nice\", \"kitchen\", \"bathroom\", \"stay\", \"great\", \"place\", \"host\", \"location\", \"clean\", \"recommend\", \"apartment\", \"good\", \"nice\", \"flat\", \"need\", \"really\", \"lovely\", \"well\", \"helpful\", \"comfortable\", \"definitely\", \"responsive\", \"close\", \"friendly\", \"area\", \"thank\", \"perfect\", \"highly\", \"amazing\", \"quiet\", \"restaurant\", \"space\", \"tube\", \"time\", \"br\", \"go\", \"book\", \"house\", \"look\", \"experience\", \"even\", \"much\", \"provide\", \"next\", \"visit\", \"always\", \"help\", \"give\", \"airbnb\", \"extremely\", \"respond\", \"want\", \"first\", \"peaceful\", \"enough\", \"value\", \"photo\", \"available\", \"long\", \"new\", \"see\", \"money\", \"quickly\", \"easy\", \"check\", \"get\", \"also\", \"night\", \"super\", \"day\", \"find\", \"excellent\", \"little\", \"convenient\", \"access\", \"thing\", \"kind\", \"quick\", \"leave\", \"local\", \"absolutely\", \"trip\", \"arrive\", \"window\", \"travel\", \"late\", \"cozy\", \"able\", \"keep\", \"last\", \"live\", \"weekend\", \"end\", \"room\", \"bed\", \"kitchen\", \"bathroom\", \"bedroom\", \"small\", \"issue\", \"price\", \"sleep\", \"floor\", \"bit\", \"quite\", \"big\", \"picture\", \"say\", \"living\", \"expect\", \"list\", \"pay\", \"share\", \"building\", \"main\", \"still\", \"dirty\", \"try\", \"size\", \"tv\", \"bad\", \"attraction\", \"sofa\", \"walk\", \"station\", \"minute\", \"property\", \"bus\", \"shop\", \"away\", \"train\", \"min\", \"distance\", \"stop\", \"parking\", \"plenty\", \"food\", \"worth\", \"arrival\", \"supermarket\", \"request\", \"reach\", \"corner\", \"less\", \"market\", \"car\", \"grocery\", \"conveniently\", \"literally\", \"polite\", \"block\", \"choose\", \"situate\", \"take\", \"work\", \"use\", \"overall\", \"park\", \"door\", \"shower\", \"guest\", \"towel\", \"water\", \"key\", \"hot\", \"however\", \"open\", \"pleasant\", \"think\", \"morning\", \"especially\", \"know\", \"hour\", \"smell\", \"light\", \"high\", \"full\", \"extra\", \"break\", \"front\", \"seem\", \"stair\", \"lock\", \"fresh\", \"make\", \"feel\", \"home\", \"right\", \"welcome\", \"tidy\", \"safe\", \"sure\", \"coffee\", \"comfy\", \"explore\", \"appreciate\", \"warm\", \"spotless\", \"part\", \"relax\", \"tea\", \"beautifully\", \"soon\", \"welcoming\", \"attentive\", \"ensure\", \"enjoyable\", \"child\", \"evening\", \"secure\", \"ready\", \"drink\", \"stock\", \"do\", \"back\", \"come\", \"fantastic\", \"many\", \"way\", \"cafe\", \"future\", \"bar\", \"studio\", \"option\", \"fine\", \"transportation\", \"centre\", \"second\", \"build\", \"unit\", \"eat\", \"busy\", \"difficult\", \"consider\", \"shopping\", \"manage\", \"moment\", \"talk\", \"proximity\", \"require\", \"summer\", \"reasonable\", \"atmosphere\", \"shoreditch\", \"instruction\", \"describe\", \"transport\", \"question\", \"clear\", \"public\", \"couple\", \"flexible\", \"let\", \"answer\", \"allow\", \"owner\", \"outside\", \"bag\", \"handy\", \"around\", \"item\", \"drop\", \"promptly\", \"environment\", \"metro\", \"outstanding\", \"checkout\", \"drive\", \"grocery_store\", \"life\", \"music\", \"ease\", \"dinner\", \"expensive\", \"beautiful\", \"short\", \"view\", \"modern\", \"garden\", \"early\", \"neighbourhood\", \"touch\", \"recommendation\", \"whole\", \"breakfast\", \"smooth\", \"attention\", \"stylish\", \"watch\", \"supply\", \"delightful\", \"event\", \"personal\", \"attend\", \"accomodation\", \"partner\", \"overnight\", \"unique\", \"accomodate\", \"gate\", \"penny\", \"dream\", \"plant\", \"checkin\", \"people\", \"problem\", \"cosy\", \"ideal\", \"communicate\", \"toilet\", \"noisy\", \"facility\", \"service\", \"care\", \"hear\", \"homely\", \"neat\", \"several\", \"other\", \"fabulous\", \"group\", \"bath\", \"different\", \"move\", \"already\", \"advertise\", \"totally\", \"cancel\", \"bother\", \"separate\", \"case\", \"completely\", \"personally\", \"neighbor\", \"street\", \"large\", \"happy\", \"noise\", \"basic\", \"mention\", \"unfortunately\", \"table\", \"anywhere\", \"sit\", \"face\", \"dining\", \"trouble\", \"baby\", \"traffic\", \"appartment\", \"chair\", \"ceiling\", \"ok\", \"patio\", \"zone\", \"fall\", \"app\", \"party\", \"obviously\", \"rule\", \"sensitive\", \"heat\", \"roomy\", \"roof\"], \"Freq\": [270899.0, 205457.0, 80097.0, 65980.0, 189204.0, 173308.0, 70018.0, 57131.0, 52810.0, 49780.0, 46869.0, 57173.0, 33700.0, 133221.0, 53458.0, 127829.0, 47244.0, 29990.0, 45725.0, 37104.0, 29203.0, 44203.0, 99635.0, 98380.0, 97451.0, 36101.0, 21235.0, 85468.0, 33365.0, 32245.0, 270898.95544635033, 205456.62159340776, 189203.08808286974, 173307.70725582226, 133220.26683795362, 127828.06685203739, 99634.75981969431, 98379.72048585255, 97450.96069439675, 85467.71953959164, 75113.56890994523, 74057.78501839006, 69126.40752727924, 68892.82536201723, 66468.51665534031, 63723.4738526537, 61900.52108068099, 57746.4840015142, 57227.70075883936, 56838.96321112148, 52596.29268279814, 49684.213071364786, 48965.21403454937, 46892.48487138691, 41236.876182597734, 33960.90211659141, 33649.841808769255, 33411.320272843695, 31319.96965300061, 29545.707891184928, 44202.328159146324, 29288.367944378006, 27944.126196575544, 27214.802283780307, 25195.74498164007, 24147.421996957917, 23934.840552659647, 23328.488010758683, 22165.892446218404, 21644.604455615015, 20902.934456489398, 20861.624263741956, 19906.659183236097, 18527.13937136984, 18378.66495149995, 17322.0997057394, 15880.910442757096, 15846.932747417728, 15002.335844351535, 13114.040588593984, 12900.124989058171, 12265.588726787064, 12240.554568688629, 11142.216831793818, 10581.414278006057, 10329.995648908383, 10229.031658973881, 10154.088228508625, 10076.473191323095, 9787.361174504282, 70017.87294201345, 57172.30595188806, 53457.74195617905, 45724.67120089793, 36100.652263604, 29944.096625027814, 29905.820353239076, 28461.784101685444, 24783.338731309574, 21772.523429070516, 21358.636347449625, 21269.271209984978, 18319.592882787754, 16631.11379088694, 15626.629010153963, 14607.857661937695, 13862.232437767618, 13763.629876414916, 12072.75949756294, 11903.403067482195, 11470.604434205916, 11074.253718236374, 10149.325878325744, 9922.63736355529, 8814.07907053676, 7981.669730752274, 7966.113821113593, 7855.613627143231, 7543.948182470638, 6669.149557341417, 80096.20466461682, 47243.08118434318, 33364.44917142241, 32244.244162191753, 21903.539548004002, 19464.229451484734, 17569.64033034156, 16288.246052755836, 14928.979363518954, 14045.007975557784, 13887.987357937369, 13257.734885156187, 13170.476889571188, 12989.933274230112, 12231.378515521761, 7590.136702762743, 7572.1294275426335, 7231.069719742328, 6918.085406656676, 6642.867341288862, 6332.445416452715, 6283.517408399929, 6258.766134659698, 5748.257974237901, 5691.725958459027, 5511.718363924853, 5436.8946831089115, 5076.210278002935, 5054.639490380205, 4913.843491810815, 65979.44517718995, 57130.73438975118, 37103.43108896629, 25418.13872657109, 25387.227653086837, 23593.035198719746, 21404.832616291205, 19260.93454985303, 18242.57962671429, 17864.40762216022, 12999.521486872807, 10832.59363431459, 9717.794883387183, 8690.437064088885, 8488.767347244342, 7859.230995048688, 7852.037395287844, 5671.360149245712, 5367.691347923619, 5109.185703522016, 4559.239505675075, 4241.47504563216, 4149.199960723615, 4017.699804492236, 3590.313097602349, 2977.992423412507, 2827.5183850598096, 2806.7131714792454, 2780.1432470630007, 2652.483002808445, 12097.579483520756, 22554.90338110312, 21378.701439693337, 20321.3051654691, 16873.13065435959, 14757.010720584842, 14437.067796498493, 12074.450161002665, 11089.94306761774, 10326.44937544443, 9974.185835589265, 9800.810402821913, 9752.084689843708, 9067.327975500697, 8498.401076472834, 7400.523294184689, 7281.230856639726, 7122.6321806198075, 7115.58711576401, 6842.55153653437, 6720.182148659748, 6559.993980196947, 6460.489225810935, 6045.820789780945, 5610.094387173279, 5566.70770255078, 4836.498805896682, 4742.848401179572, 4152.788647826429, 4105.538691524435, 4087.104136354994, 52809.885443624364, 49779.36539896304, 46868.61173128962, 24334.663104545416, 21909.67482943188, 14917.399993496234, 12828.469988224015, 12196.414448036445, 11813.05818328157, 11047.135622435744, 8048.908410654841, 7721.370941375434, 7544.31444166906, 7312.136626875775, 5795.269090437911, 5348.221496089523, 5109.934364024205, 4655.923845018277, 4504.783578289636, 4146.507333710884, 4146.40763304707, 4095.0257292404153, 3791.0927103126787, 3543.419291071914, 3457.4380749855773, 3409.3965676748494, 3328.440689302903, 3124.385461964657, 3056.7489558911016, 2886.187424109557, 29989.33515818461, 29202.95794060541, 18280.250585864982, 15789.355740750261, 8912.40159303902, 7349.463173215594, 7205.3332002459, 7103.35192868771, 6111.985155651792, 5892.176252819604, 5567.376893950683, 5504.835003936018, 5105.544198223119, 5071.029110923373, 4938.402730002745, 4848.918531647472, 4729.3932643034395, 4612.391458250869, 3810.863892583896, 3273.760628943529, 3056.7441554201073, 2843.5969413085672, 2813.000212658056, 2596.2888729316473, 2575.3745138871227, 2446.011914953848, 2299.780015608501, 2267.1120176671234, 2237.771750475896, 2233.7202251146223, 17482.553219032805, 16128.38606638254, 15156.624130960528, 14870.195485956061, 13389.034648916679, 11481.6827598644, 10496.424912941447, 10188.835689489186, 7345.643210412122, 6986.860301698361, 5722.72242863376, 5358.8526311238775, 3917.1151822544307, 3820.233915647696, 3076.419257626151, 2988.281081137749, 2611.6780964425716, 2242.2158456284496, 2221.4559420743562, 2139.17201375433, 2022.2585474814186, 2021.09291657815, 1996.8637589851526, 1638.0101227408836, 1621.6986718519456, 1296.3100585042544, 1266.3175513530846, 1265.8356771343108, 1220.711684339213, 1217.4704064180617, 33699.69220389275, 21234.864510370455, 12710.576424602426, 11792.912833855687, 10321.327019068562, 9329.031332783692, 8386.862808519269, 7917.475885297658, 6952.895934755689, 5208.75767610163, 4285.4059773728195, 3696.788099965828, 3235.4646231071893, 2974.01458772601, 2247.4870044546483, 2212.628036126881, 2100.917426657775, 1965.5074259410446, 1900.3333895816377, 1893.0021024099644, 1885.123367441145, 1828.3211869670706, 1456.1058298397968, 1277.9785193016708, 1183.164405507533, 1158.8432640060198, 1026.129798904453, 974.4871676538012, 970.8642333541235, 941.496542540904, 16997.63629976375, 10656.356342359728, 8238.623710848082, 8111.468014921495, 7668.7622408849265, 7559.771115911545, 6821.8173870736, 5608.178416924024, 4912.634787270049, 4566.840532056544, 4546.258190246201, 4142.108200842183, 4116.7720091800065, 4051.7107603032173, 3694.0939971027055, 3640.4363156806203, 3610.5737782967367, 3510.5268333117524, 3334.0841247393782, 3272.4826033048507, 3168.2776966571005, 2893.584030988775, 2696.1184610912223, 2444.2434905015184, 2212.3899623119114, 2062.1165482630436, 1969.1404193114865, 1730.1158869552671, 1579.0018174011825, 1538.4493603420508, 15904.439720404913, 9625.873463411705, 9399.572990563902, 8422.265030474435, 6073.040578840659, 4124.445900319312, 3875.0577053816896, 3375.285581942492, 2919.2256331189988, 2785.1963446160626, 2680.83961412359, 2498.9318219671595, 2338.1954558573284, 1877.7155228032564, 1829.313654638057, 1773.1291238711467, 1757.4771063866451, 1570.1175218699184, 1561.9239680754197, 1506.955112400387, 1440.259756386753, 1281.6666161147346, 1142.6474219037484, 1072.0946371261955, 921.9660820720961, 862.2129079394618, 772.9136728666327, 720.8419731230979, 569.6800045266682, 569.0176773879373], \"Total\": [270899.0, 205457.0, 80097.0, 65980.0, 189204.0, 173308.0, 70018.0, 57131.0, 52810.0, 49780.0, 46869.0, 57173.0, 33700.0, 133221.0, 53458.0, 127829.0, 47244.0, 29990.0, 45725.0, 37104.0, 29203.0, 44203.0, 99635.0, 98380.0, 97451.0, 36101.0, 21235.0, 85468.0, 33365.0, 32245.0, 270899.9505688829, 205457.61671305273, 189204.0832049409, 173308.70237924912, 133221.26195920978, 127829.06197463295, 99635.75494142226, 98380.71561149579, 97451.95581791486, 85468.71465994838, 75114.56403627916, 74058.78014247732, 69127.4026491035, 68893.82048238261, 66469.5117798708, 63724.468973599985, 61901.516203823485, 57747.47912239023, 57228.695878547725, 56839.95833316028, 52597.287802568, 49685.20819695179, 48966.209155605255, 46893.479990781576, 41237.87130337368, 33961.897237983365, 33650.83693201085, 33412.31539584914, 31320.964781037434, 29546.703013097453, 44203.325273292845, 29289.36506409353, 27945.123313093143, 27215.799402863344, 25196.742097253566, 24148.41911437644, 23935.83767104637, 23329.485127375523, 22166.889561650572, 21645.60157314484, 20903.93157324755, 20862.621379381137, 19907.656299565857, 18528.13648519176, 18379.662070004382, 17323.096821326773, 15881.907558499594, 15847.929862014204, 15003.33296218361, 13115.037710478226, 12901.122106621664, 12266.58584606707, 12241.55168241719, 11143.213947855484, 10582.411396167352, 10330.99276443845, 10230.028778800395, 10155.085346849539, 10077.470305363273, 9788.358288362571, 70018.86477713552, 57173.29778898914, 53458.7337941132, 45725.66304096299, 36101.64410385751, 29945.088462179614, 29906.812194130784, 28462.77594050214, 24784.330570753966, 21773.51526911775, 21359.62818530692, 21270.263046893848, 18320.584724313467, 16632.105627268455, 15627.620850800182, 14608.849502744904, 13863.22428077458, 13764.621718199878, 12073.751336113246, 11904.394906968424, 11471.596278603969, 11075.24555711763, 10150.317718358336, 9923.6292019648, 8815.0709113878, 7982.66157051113, 7967.105665616926, 7856.605468599365, 7544.94002379059, 6670.141400866834, 80097.2013991174, 47244.077918715724, 33365.44590600983, 32245.240892258807, 21904.536282134897, 19465.22618151677, 17570.637062303245, 16289.242789463497, 14929.97609967746, 14046.0047081869, 13888.984087099678, 13258.73161658446, 13171.473623858503, 12990.93001041365, 12232.375251615911, 7591.133432092795, 7573.126158342571, 7232.066452556438, 6919.082142679638, 6643.864069352294, 6333.442148919089, 6284.514145916178, 6259.762867789745, 5749.254697709459, 5692.722696188352, 5512.7151011355145, 5437.891416434403, 5077.207007993845, 5055.636236322263, 4914.840222398466, 65980.43825523726, 57131.72746783582, 37104.42416835245, 25419.13181600914, 25388.220728627453, 23594.02828199767, 21405.825700206646, 19261.92762595425, 18243.572702955444, 17865.400698926092, 13000.514564028657, 10833.586722085842, 9718.787969750063, 8691.430148272155, 8489.76043768984, 7860.224089565413, 7853.030476102818, 5672.353239732086, 5368.684437036683, 5110.1787900525005, 4560.23258640206, 4242.4681236880215, 4150.193050080854, 4018.6928800296487, 3591.3061810317263, 2978.9855125671425, 2828.5114766657084, 2807.7062565662336, 2781.136341451851, 2653.4760870748046, 15543.855440878679, 22555.900487136718, 21379.6985503384, 20322.302274952268, 16874.127771559884, 14758.007825710185, 14438.064899998579, 12075.447270663191, 11090.940173564448, 10327.44647633247, 9975.182940807812, 9801.80750448702, 9753.081794471307, 9068.32507979355, 8499.398189711093, 7401.52040587998, 7282.227970324973, 7123.629292662586, 7116.584231888162, 6843.548645377376, 6721.179252423537, 6560.991086676399, 6461.486338165937, 6046.817901468706, 5611.091499550897, 5567.704806278478, 4837.495914564435, 4743.845510909551, 4153.785752591357, 4106.5357912843265, 4088.1012492154196, 52810.88027167014, 49780.36022199555, 46869.60655192263, 24335.65793486268, 21910.669653034245, 14918.394824788402, 12829.464816554218, 12197.409275910242, 11814.05301244621, 11048.13045054435, 8049.903237692191, 7722.365774352146, 7545.309266860302, 7313.131454243262, 5796.263920754849, 5349.216323048072, 5110.929188912422, 4656.918671150517, 4505.778409916069, 4147.502154454405, 4147.402463451379, 4096.020557941639, 3792.0875370930185, 3544.414127016827, 3458.432904348526, 3410.3913937558877, 3329.435525226488, 3125.380293027014, 3057.74378376851, 2887.1822588660134, 29990.32433213226, 29203.947114490493, 18281.23976078127, 15790.344918420607, 8913.390773361994, 7350.452351577099, 7206.322377343623, 7104.341107232946, 6112.974331317795, 5893.1654320478065, 5568.366072187606, 5505.82417914503, 5106.533376650756, 5072.01829145505, 4939.391911292109, 4849.907701252347, 4730.382442109046, 4613.380637632158, 3811.8530764442335, 3274.74979983635, 3057.7333280756006, 2844.5861299249837, 2813.9893969465197, 2597.278061406676, 2576.363693796438, 2447.001095687306, 2300.7691866118757, 2268.101194846789, 2238.760936051771, 2234.70940722339, 17483.544472523416, 16129.37732104194, 15157.61538160299, 14871.18674085519, 13390.02589962392, 11482.674009577247, 10497.416176341716, 10189.826947394336, 7346.634468875174, 6987.851555254618, 5723.713690362096, 5359.843892364413, 3918.106444436588, 3821.225170677847, 3077.410517306292, 2989.2723429333464, 2612.6693666517554, 2243.207097450837, 2222.447195660081, 2140.1632743596056, 2023.2498079618606, 2022.0841811181879, 1997.8550162711754, 1639.0013866840818, 1622.6899320252317, 1297.3013167647762, 1267.3088248962392, 1266.826934012452, 1221.702942774733, 1218.4616651876327, 33700.68608644698, 21235.858397267293, 12711.570306199668, 11793.906719176368, 10322.320902295853, 9330.025221257241, 8387.856696614537, 7918.469775039531, 6953.889824951908, 5209.751565289189, 4286.399863465256, 3697.781986580643, 3236.4585170235005, 2975.008474058668, 2248.480893702672, 2213.62192831345, 2101.911317373642, 1966.5013099539588, 1901.327277186634, 1893.9959833976397, 1886.1172499608406, 1829.3150679768628, 1457.0997133782769, 1278.9724059121763, 1184.1582917114008, 1159.8371534275068, 1027.1236938943543, 975.4810659004054, 971.8581210851073, 942.4904343892243, 16998.623973841408, 10657.344016312707, 8239.611388960315, 8112.455688075673, 7669.749913709299, 7560.758795007096, 6822.805061869179, 5609.166091774928, 4913.622460365244, 4567.828209123068, 4547.245864620783, 4143.095878102733, 4117.759682081463, 4052.6984342856044, 3695.081670033801, 3641.4239899022987, 3611.56145421286, 3511.5145138216235, 3335.071800845712, 3273.4702824270507, 3169.2653803552826, 2894.5717021703244, 2697.106137692671, 2445.231171495575, 2213.377646639937, 2063.1042275674795, 1970.1280995769066, 1731.1035610315296, 1579.9895026146794, 1539.4370393478987, 15905.422660501983, 9626.85640235233, 9400.555930175045, 8423.247967004809, 6074.023518256251, 4125.428843795276, 3876.0406456472056, 3376.268516387788, 2920.2085739944164, 2786.179285635712, 2681.8225580801586, 2499.914758299067, 2339.1783953633203, 1878.6984640791748, 1830.2965975249083, 1774.1120580690829, 1758.4600378342666, 1571.1004708487746, 1562.906905585763, 1507.938053397794, 1441.2426955109242, 1282.6495624937568, 1143.6303659165924, 1073.0775746635265, 922.9490290851396, 863.1958640698451, 773.8966218489351, 721.8249078640132, 570.6629383157962, 570.0006199288666], \"Category\": [\"Default\", \"Default\", \"Default\", \"Default\", \"Default\", \"Default\", \"Default\", \"Default\", \"Default\", \"Default\", \"Default\", \"Default\", \"Default\", \"Default\", \"Default\", \"Default\", \"Default\", \"Default\", \"Default\", \"Default\", \"Default\", \"Default\", \"Default\", \"Default\", \"Default\", \"Default\", \"Default\", \"Default\", \"Default\", \"Default\", \"Topic1\", \"Topic1\", \"Topic1\", \"Topic1\", \"Topic1\", \"Topic1\", \"Topic1\", \"Topic1\", \"Topic1\", \"Topic1\", \"Topic1\", \"Topic1\", \"Topic1\", \"Topic1\", \"Topic1\", \"Topic1\", \"Topic1\", \"Topic1\", \"Topic1\", \"Topic1\", \"Topic1\", \"Topic1\", \"Topic1\", \"Topic1\", \"Topic1\", \"Topic1\", \"Topic1\", \"Topic1\", \"Topic1\", \"Topic1\", \"Topic2\", \"Topic2\", \"Topic2\", \"Topic2\", \"Topic2\", \"Topic2\", \"Topic2\", \"Topic2\", \"Topic2\", \"Topic2\", \"Topic2\", \"Topic2\", \"Topic2\", \"Topic2\", \"Topic2\", \"Topic2\", \"Topic2\", \"Topic2\", \"Topic2\", \"Topic2\", \"Topic2\", \"Topic2\", \"Topic2\", \"Topic2\", \"Topic2\", \"Topic2\", \"Topic2\", \"Topic2\", \"Topic2\", \"Topic2\", \"Topic3\", \"Topic3\", \"Topic3\", \"Topic3\", \"Topic3\", \"Topic3\", \"Topic3\", \"Topic3\", \"Topic3\", \"Topic3\", \"Topic3\", \"Topic3\", \"Topic3\", \"Topic3\", \"Topic3\", \"Topic3\", \"Topic3\", \"Topic3\", \"Topic3\", \"Topic3\", \"Topic3\", \"Topic3\", \"Topic3\", \"Topic3\", \"Topic3\", \"Topic3\", \"Topic3\", \"Topic3\", \"Topic3\", \"Topic3\", \"Topic4\", \"Topic4\", \"Topic4\", \"Topic4\", \"Topic4\", \"Topic4\", \"Topic4\", \"Topic4\", \"Topic4\", \"Topic4\", \"Topic4\", \"Topic4\", \"Topic4\", \"Topic4\", \"Topic4\", \"Topic4\", \"Topic4\", \"Topic4\", \"Topic4\", \"Topic4\", \"Topic4\", \"Topic4\", \"Topic4\", \"Topic4\", \"Topic4\", \"Topic4\", \"Topic4\", \"Topic4\", \"Topic4\", \"Topic4\", \"Topic5\", \"Topic5\", \"Topic5\", \"Topic5\", \"Topic5\", \"Topic5\", \"Topic5\", \"Topic5\", \"Topic5\", \"Topic5\", \"Topic5\", \"Topic5\", \"Topic5\", \"Topic5\", \"Topic5\", \"Topic5\", \"Topic5\", \"Topic5\", \"Topic5\", \"Topic5\", \"Topic5\", \"Topic5\", \"Topic5\", \"Topic5\", \"Topic5\", \"Topic5\", \"Topic5\", \"Topic5\", \"Topic5\", \"Topic5\", \"Topic5\", \"Topic6\", \"Topic6\", \"Topic6\", \"Topic6\", \"Topic6\", \"Topic6\", \"Topic6\", \"Topic6\", \"Topic6\", \"Topic6\", \"Topic6\", \"Topic6\", \"Topic6\", \"Topic6\", \"Topic6\", \"Topic6\", \"Topic6\", \"Topic6\", \"Topic6\", \"Topic6\", \"Topic6\", \"Topic6\", \"Topic6\", \"Topic6\", \"Topic6\", \"Topic6\", \"Topic6\", \"Topic6\", \"Topic6\", \"Topic6\", \"Topic7\", \"Topic7\", \"Topic7\", \"Topic7\", \"Topic7\", \"Topic7\", \"Topic7\", \"Topic7\", \"Topic7\", \"Topic7\", \"Topic7\", \"Topic7\", \"Topic7\", \"Topic7\", \"Topic7\", \"Topic7\", \"Topic7\", \"Topic7\", \"Topic7\", \"Topic7\", \"Topic7\", \"Topic7\", \"Topic7\", \"Topic7\", \"Topic7\", \"Topic7\", \"Topic7\", \"Topic7\", \"Topic7\", \"Topic7\", \"Topic8\", \"Topic8\", \"Topic8\", \"Topic8\", \"Topic8\", \"Topic8\", \"Topic8\", \"Topic8\", \"Topic8\", \"Topic8\", \"Topic8\", \"Topic8\", \"Topic8\", \"Topic8\", \"Topic8\", \"Topic8\", \"Topic8\", \"Topic8\", \"Topic8\", \"Topic8\", \"Topic8\", \"Topic8\", \"Topic8\", \"Topic8\", \"Topic8\", \"Topic8\", \"Topic8\", \"Topic8\", \"Topic8\", \"Topic8\", \"Topic9\", \"Topic9\", \"Topic9\", \"Topic9\", \"Topic9\", \"Topic9\", \"Topic9\", \"Topic9\", \"Topic9\", \"Topic9\", \"Topic9\", \"Topic9\", \"Topic9\", \"Topic9\", \"Topic9\", \"Topic9\", \"Topic9\", \"Topic9\", \"Topic9\", \"Topic9\", \"Topic9\", \"Topic9\", \"Topic9\", \"Topic9\", \"Topic9\", \"Topic9\", \"Topic9\", \"Topic9\", \"Topic9\", \"Topic9\", \"Topic10\", \"Topic10\", \"Topic10\", \"Topic10\", \"Topic10\", \"Topic10\", \"Topic10\", \"Topic10\", \"Topic10\", \"Topic10\", \"Topic10\", \"Topic10\", \"Topic10\", \"Topic10\", \"Topic10\", \"Topic10\", \"Topic10\", \"Topic10\", \"Topic10\", \"Topic10\", \"Topic10\", \"Topic10\", \"Topic10\", \"Topic10\", \"Topic10\", \"Topic10\", \"Topic10\", \"Topic10\", \"Topic10\", \"Topic10\", \"Topic11\", \"Topic11\", \"Topic11\", \"Topic11\", \"Topic11\", \"Topic11\", \"Topic11\", \"Topic11\", \"Topic11\", \"Topic11\", \"Topic11\", \"Topic11\", \"Topic11\", \"Topic11\", \"Topic11\", \"Topic11\", \"Topic11\", \"Topic11\", \"Topic11\", \"Topic11\", \"Topic11\", \"Topic11\", \"Topic11\", \"Topic11\", \"Topic11\", \"Topic11\", \"Topic11\", \"Topic11\", \"Topic11\", \"Topic11\", \"Topic12\", \"Topic12\", \"Topic12\", \"Topic12\", \"Topic12\", \"Topic12\", \"Topic12\", \"Topic12\", \"Topic12\", \"Topic12\", \"Topic12\", \"Topic12\", \"Topic12\", \"Topic12\", \"Topic12\", \"Topic12\", \"Topic12\", \"Topic12\", \"Topic12\", \"Topic12\", \"Topic12\", \"Topic12\", \"Topic12\", \"Topic12\", \"Topic12\", \"Topic12\", \"Topic12\", \"Topic12\", \"Topic12\", \"Topic12\"], \"logprob\": [30.0, 29.0, 28.0, 27.0, 26.0, 25.0, 24.0, 23.0, 22.0, 21.0, 20.0, 19.0, 18.0, 17.0, 16.0, 15.0, 14.0, 13.0, 12.0, 11.0, 10.0, 9.0, 8.0, 7.0, 6.0, 5.0, 4.0, 3.0, 2.0, 1.0, -2.4514, -2.728, -2.8104, -2.8981, -3.1612, -3.2025, -3.4517, -3.4644, -3.4738, -3.6051, -3.7342, -3.7483, -3.8173, -3.8206, -3.8565, -3.8986, -3.9277, -3.9971, -4.0062, -4.013, -4.0905, -4.1475, -4.1621, -4.2053, -4.3339, -4.528, -4.5372, -4.5443, -4.6089, -4.6673, -2.9966, -3.4082, -3.4552, -3.4816, -3.5587, -3.6012, -3.6101, -3.6357, -3.6868, -3.7106, -3.7455, -3.7475, -3.7943, -3.8662, -3.8742, -3.9334, -4.0203, -4.0224, -4.0772, -4.2117, -4.2282, -4.2786, -4.2806, -4.3747, -4.4263, -4.4503, -4.4602, -4.4675, -4.4752, -4.5043, -2.4868, -2.6895, -2.7567, -2.913, -3.1493, -3.3363, -3.3375, -3.387, -3.5254, -3.6549, -3.6741, -3.6783, -3.8276, -3.9243, -3.9866, -4.054, -4.1064, -4.1136, -4.2446, -4.2588, -4.2958, -4.331, -4.4182, -4.4408, -4.5592, -4.6584, -4.6604, -4.6744, -4.7148, -4.8381, -2.2671, -2.7951, -3.1429, -3.177, -3.5637, -3.6818, -3.7842, -3.8599, -3.9471, -4.0081, -4.0193, -4.0658, -4.0724, -4.0862, -4.1464, -4.6235, -4.6259, -4.672, -4.7162, -4.7568, -4.8047, -4.8124, -4.8164, -4.9015, -4.9114, -4.9435, -4.9572, -5.0258, -5.0301, -5.0583, -2.0645, -2.2085, -2.6401, -3.0184, -3.0196, -3.0929, -3.1902, -3.2957, -3.3501, -3.371, -3.6889, -3.8713, -3.9799, -4.0916, -4.1151, -4.1921, -4.1931, -4.5184, -4.5734, -4.6228, -4.7367, -4.8089, -4.8309, -4.8631, -4.9756, -5.1626, -5.2144, -5.2218, -5.2313, -5.2783, -3.7608, -3.1038, -3.1573, -3.2081, -3.394, -3.528, -3.5499, -3.7286, -3.8137, -3.885, -3.9197, -3.9373, -3.9422, -4.015, -4.0798, -4.2182, -4.2344, -4.2564, -4.2574, -4.2966, -4.3146, -4.3387, -4.354, -4.4204, -4.4952, -4.5029, -4.6435, -4.6631, -4.7959, -4.8074, -4.8119, -2.1548, -2.2139, -2.2741, -2.9296, -3.0346, -3.419, -3.5698, -3.6203, -3.6523, -3.7193, -4.036, -4.0775, -4.1007, -4.132, -4.3644, -4.4447, -4.4903, -4.5834, -4.6164, -4.6992, -4.6992, -4.7117, -4.7888, -4.8564, -4.881, -4.895, -4.919, -4.9823, -5.0041, -5.0616, -2.1489, -2.1755, -2.6439, -2.7904, -3.3623, -3.5551, -3.5749, -3.5892, -3.7395, -3.7761, -3.8328, -3.8441, -3.9194, -3.9262, -3.9527, -3.971, -3.9959, -4.021, -4.2119, -4.3638, -4.4324, -4.5047, -4.5155, -4.5957, -4.6037, -4.6553, -4.7169, -4.7312, -4.7443, -4.7461, -2.3555, -2.4361, -2.4983, -2.5174, -2.6223, -2.776, -2.8657, -2.8954, -3.2226, -3.2727, -3.4723, -3.538, -3.8514, -3.8764, -4.093, -4.122, -4.2567, -4.4093, -4.4186, -4.4563, -4.5125, -4.5131, -4.5251, -4.7232, -4.7332, -4.9572, -4.9806, -4.981, -5.0173, -5.0199, -1.6726, -2.1345, -2.6477, -2.7226, -2.8559, -2.957, -3.0634, -3.121, -3.2509, -3.5398, -3.7349, -3.8826, -4.0159, -4.1002, -4.3803, -4.3959, -4.4477, -4.5143, -4.5481, -4.5519, -4.5561, -4.5867, -4.8143, -4.9448, -5.0219, -5.0427, -5.1643, -5.2159, -5.2197, -5.2504, -2.2759, -2.7428, -3.0001, -3.0157, -3.0718, -3.0861, -3.1889, -3.3848, -3.5172, -3.5902, -3.5947, -3.6878, -3.6939, -3.7098, -3.8022, -3.8169, -3.8251, -3.8532, -3.9048, -3.9234, -3.9558, -4.0465, -4.1172, -4.2152, -4.3149, -4.3852, -4.4314, -4.5608, -4.6522, -4.6782, -1.8525, -2.3546, -2.3784, -2.4882, -2.8152, -3.2021, -3.2645, -3.4026, -3.5478, -3.5948, -3.6329, -3.7032, -3.7697, -3.989, -4.0151, -4.0463, -4.0552, -4.1679, -4.1732, -4.209, -4.2542, -4.3709, -4.4857, -4.5495, -4.7003, -4.7673, -4.8767, -4.9464, -5.1818, -5.1829], \"loglift\": [30.0, 29.0, 28.0, 27.0, 26.0, 25.0, 24.0, 23.0, 22.0, 21.0, 20.0, 19.0, 18.0, 17.0, 16.0, 15.0, 14.0, 13.0, 12.0, 11.0, 10.0, 9.0, 8.0, 7.0, 6.0, 5.0, 4.0, 3.0, 2.0, 1.0, 0.9352, 0.9352, 0.9352, 0.9352, 0.9352, 0.9352, 0.9352, 0.9352, 0.9352, 0.9352, 0.9352, 0.9352, 0.9352, 0.9352, 0.9352, 0.9352, 0.9352, 0.9352, 0.9352, 0.9352, 0.9352, 0.9352, 0.9352, 0.9352, 0.9352, 0.9352, 0.9352, 0.9352, 0.9352, 0.9352, 2.203, 2.203, 2.203, 2.203, 2.203, 2.203, 2.203, 2.203, 2.2029, 2.2029, 2.2029, 2.2029, 2.2029, 2.2029, 2.2029, 2.2029, 2.2029, 2.2029, 2.2029, 2.2029, 2.2029, 2.2029, 2.2029, 2.2029, 2.2029, 2.2029, 2.2029, 2.2029, 2.2029, 2.2029, 2.2528, 2.2528, 2.2528, 2.2528, 2.2528, 2.2528, 2.2528, 2.2528, 2.2528, 2.2527, 2.2527, 2.2527, 2.2527, 2.2527, 2.2527, 2.2527, 2.2527, 2.2527, 2.2527, 2.2527, 2.2527, 2.2527, 2.2527, 2.2527, 2.2527, 2.2527, 2.2527, 2.2527, 2.2527, 2.2526, 2.338, 2.338, 2.338, 2.338, 2.338, 2.338, 2.338, 2.338, 2.338, 2.338, 2.338, 2.3379, 2.3379, 2.3379, 2.3379, 2.3379, 2.3379, 2.3379, 2.3379, 2.3379, 2.3379, 2.3379, 2.3379, 2.3379, 2.3378, 2.3378, 2.3378, 2.3378, 2.3378, 2.3378, 2.7345, 2.7345, 2.7345, 2.7345, 2.7345, 2.7345, 2.7345, 2.7345, 2.7345, 2.7345, 2.7345, 2.7345, 2.7345, 2.7344, 2.7344, 2.7344, 2.7344, 2.7344, 2.7344, 2.7344, 2.7343, 2.7343, 2.7343, 2.7343, 2.7343, 2.7342, 2.7342, 2.7342, 2.7342, 2.7342, 2.4839, 2.7686, 2.7686, 2.7686, 2.7686, 2.7686, 2.7686, 2.7686, 2.7686, 2.7686, 2.7686, 2.7686, 2.7686, 2.7686, 2.7686, 2.7685, 2.7685, 2.7685, 2.7685, 2.7685, 2.7685, 2.7685, 2.7685, 2.7685, 2.7685, 2.7685, 2.7685, 2.7685, 2.7684, 2.7684, 2.7684, 2.8669, 2.8669, 2.8669, 2.8669, 2.8669, 2.8668, 2.8668, 2.8668, 2.8668, 2.8668, 2.8668, 2.8668, 2.8668, 2.8668, 2.8667, 2.8667, 2.8667, 2.8667, 2.8667, 2.8667, 2.8667, 2.8667, 2.8666, 2.8666, 2.8666, 2.8666, 2.8666, 2.8666, 2.8666, 2.8666, 3.4386, 3.4386, 3.4386, 3.4386, 3.4385, 3.4385, 3.4385, 3.4385, 3.4385, 3.4385, 3.4385, 3.4385, 3.4385, 3.4385, 3.4385, 3.4384, 3.4384, 3.4384, 3.4384, 3.4383, 3.4383, 3.4383, 3.4383, 3.4383, 3.4383, 3.4382, 3.4382, 3.4382, 3.4382, 3.4382, 3.7716, 3.7716, 3.7716, 3.7716, 3.7716, 3.7716, 3.7716, 3.7716, 3.7715, 3.7715, 3.7715, 3.7715, 3.7714, 3.7714, 3.7714, 3.7713, 3.7713, 3.7712, 3.7712, 3.7712, 3.7712, 3.7712, 3.7712, 3.7711, 3.7711, 3.7709, 3.7709, 3.7709, 3.7709, 3.7709, 3.7983, 3.7982, 3.7982, 3.7982, 3.7982, 3.7982, 3.7982, 3.7982, 3.7981, 3.7981, 3.7981, 3.798, 3.798, 3.798, 3.7978, 3.7978, 3.7978, 3.7978, 3.7978, 3.7978, 3.7978, 3.7977, 3.7976, 3.7975, 3.7975, 3.7974, 3.7973, 3.7973, 3.7973, 3.7972, 3.8793, 3.8793, 3.8793, 3.8793, 3.8793, 3.8793, 3.8793, 3.8792, 3.8792, 3.8792, 3.8792, 3.8792, 3.8792, 3.8792, 3.8791, 3.8791, 3.8791, 3.8791, 3.8791, 3.8791, 3.8791, 3.8791, 3.879, 3.879, 3.879, 3.8789, 3.8789, 3.8788, 3.8788, 3.8788, 4.3693, 4.3692, 4.3692, 4.3692, 4.3692, 4.3691, 4.3691, 4.369, 4.369, 4.369, 4.369, 4.3689, 4.3689, 4.3688, 4.3688, 4.3688, 4.3688, 4.3687, 4.3687, 4.3687, 4.3686, 4.3685, 4.3685, 4.3684, 4.3683, 4.3682, 4.368, 4.368, 4.3676, 4.3676]}, \"token.table\": {\"Topic\": [3, 3, 3, 10, 10, 11, 2, 9, 11, 3, 2, 1, 9, 12, 1, 12, 12, 7, 1, 9, 5, 3, 8, 10, 10, 7, 4, 2, 5, 12, 8, 4, 9, 8, 12, 11, 4, 10, 7, 4, 4, 4, 4, 5, 2, 11, 2, 6, 10, 8, 4, 5, 8, 8, 11, 5, 11, 11, 12, 8, 12, 3, 10, 9, 7, 5, 1, 9, 1, 7, 8, 1, 7, 11, 11, 8, 3, 5, 5, 11, 9, 3, 3, 1, 10, 9, 11, 8, 12, 9, 4, 5, 7, 6, 10, 7, 9, 9, 10, 9, 3, 8, 3, 7, 2, 7, 9, 6, 2, 7, 10, 3, 4, 9, 2, 7, 6, 2, 11, 12, 11, 12, 8, 7, 3, 8, 2, 1, 9, 4, 5, 6, 1, 6, 6, 8, 10, 10, 3, 2, 2, 1, 1, 5, 9, 11, 6, 9, 12, 11, 12, 2, 1, 6, 1, 7, 11, 1, 6, 6, 2, 6, 11, 9, 4, 9, 3, 6, 3, 4, 6, 12, 3, 3, 3, 5, 9, 9, 6, 4, 5, 3, 3, 4, 3, 1, 6, 2, 2, 1, 4, 7, 8, 8, 5, 12, 9, 5, 5, 10, 8, 2, 6, 11, 2, 9, 11, 1, 11, 10, 2, 2, 1, 3, 12, 11, 12, 12, 6, 8, 11, 9, 9, 6, 10, 9, 6, 5, 7, 10, 12, 12, 4, 2, 10, 11, 1, 10, 11, 2, 4, 1, 10, 6, 5, 5, 4, 11, 9, 5, 2, 8, 9, 9, 3, 2, 1, 4, 5, 7, 1, 8, 1, 10, 7, 5, 8, 2, 1, 1, 7, 12, 4, 12, 12, 7, 4, 8, 7, 2, 6, 12, 11, 11, 11, 4, 5, 8, 8, 10, 6, 12, 5, 4, 4, 4, 6, 10, 4, 7, 1, 7, 6, 5, 1, 4, 7, 5, 12, 8, 10, 8, 3, 5, 10, 7, 12, 5, 6, 8, 7, 1, 3, 6, 7, 2, 11, 11, 10, 6, 12, 5, 9, 8, 3, 3, 12, 4, 1, 4, 12, 10, 8, 6, 2, 10, 2, 5, 2, 7, 10, 6, 8, 3, 7, 7, 1, 10, 3, 6, 5, 12], \"Freq\": [0.999878513582186, 0.9999548321622921, 0.9999406191220549, 0.9990218438535554, 0.9994076455422568, 0.9998024916190897, 0.9999366844543971, 0.9998753099122869, 0.9996007338599266, 0.999985499587783, 0.9999670328060731, 0.9999735810406268, 0.9998781377583819, 0.999586134358628, 0.9999927260999135, 0.999448802746605, 0.9993731748431419, 0.9998231404219828, 0.9999756829648977, 0.9995743636619948, 0.9998442678540121, 0.9998828242023786, 0.9996601083932111, 0.9994741364784454, 0.9995493478393656, 0.9996618453444684, 0.999874153065505, 0.9998666281139039, 0.9999614263790517, 0.9996282191674026, 0.9999558413534448, 0.9997622692964961, 0.9996793775234057, 0.9998112270775427, 0.9998314925430936, 0.9998534780877031, 0.9999615170417565, 0.9999796417661878, 0.999802729827298, 0.9999771840458485, 0.9999755173025354, 0.9998881200463527, 0.9999291462144743, 0.9997484578151358, 0.9999706272503147, 0.9993775817506657, 0.9999533938652975, 0.9998734117014101, 0.9996734174342464, 0.9997182018926404, 0.9997722961882055, 0.9999519175195261, 0.9997007319056017, 0.9998024133063338, 0.999496500981205, 0.9997125314252958, 0.9998186864555428, 0.9994273978544091, 0.9992995541219715, 0.9998955501489143, 0.9991697065598006, 0.9999773007848186, 0.9984186212030999, 0.9995720328731506, 0.999601026582631, 0.9995914110952009, 0.9999916922285391, 0.9999233832980151, 0.9999831397983323, 0.9999108678075932, 0.9999675689561147, 0.999991660885627, 0.999897679471707, 0.9999022244900112, 0.9993625101025891, 0.9997710359929215, 0.9999705900635784, 0.9996362936029723, 0.9997693250860821, 0.9999257988111995, 0.9998650928649558, 0.999936595578896, 0.9999728425040586, 0.9999743863730035, 0.9995664339565093, 0.9999146079222697, 0.9996786273550572, 0.9997762042693866, 0.9996340842038591, 0.9994246205438971, 0.9997817634153591, 0.9999215971167007, 0.9995905146402231, 0.9999317099081334, 0.9984817071779468, 0.9995583599761944, 0.9993890263350492, 0.9994618876463931, 0.9998901159179179, 0.9993472399502646, 0.9999876493693768, 0.9997077525705449, 0.9998288790599422, 0.9997132088638829, 0.9999522404950798, 0.9997508415968128, 0.99945645532117, 0.9999116612281841, 0.9999363411850962, 0.9995856781414715, 0.9997450751995836, 0.9999463140329666, 0.9998512954466854, 0.9988004011702678, 0.9999650034789723, 0.9998877952112565, 0.9998054746476716, 0.9999428558253314, 0.9996089469651852, 0.9996932839282449, 0.9997921096013473, 0.9994935775813201, 0.9999321839876565, 0.9999726755292753, 0.999972738410907, 0.9997546727047223, 0.9999208762871191, 0.9999924909864498, 0.9999188457862331, 0.9999284701801137, 0.9998354530557392, 0.9997306208559216, 0.9999755157989737, 0.9996907667539456, 0.999864738531566, 0.9998164976149582, 0.9998720343701426, 0.9992782146829554, 0.9999862736346127, 0.9999639781187565, 0.9999598028936728, 0.9999901919062902, 0.9999969983441714, 0.9998275857224392, 0.9995748220213763, 0.9998445397593317, 0.9998801476557554, 0.9995416544856918, 0.9999408619895276, 0.9997260177571491, 0.9988571911899602, 0.9999386616569524, 0.9999769480448618, 0.9997699696187303, 0.9999788712815153, 0.9999870587366259, 0.9997354929417577, 0.9999959472361198, 0.9999176167776554, 0.9999198302801945, 0.9999705478886635, 0.9998890817800872, 0.9998205613526109, 0.9999688580010608, 0.9999637427885519, 0.9997437997091024, 0.9999171240687976, 0.9998814116177286, 0.9999335245161838, 0.9999566645680713, 0.9999179055753258, 0.999911040290149, 0.9998612211682221, 0.9998701795948759, 0.9999418501268875, 0.9997297097508281, 0.9999136381593692, 0.9989969047684146, 0.9998489425357684, 0.9998525383355595, 0.9996691784626058, 0.9999763350514889, 0.9999229350892336, 0.9998506900052627, 0.9999116885978482, 0.9999905273438248, 0.9998695271850635, 0.9999039042557587, 0.9999412336530306, 0.9999880906244295, 0.9999181884383995, 0.9999833316228472, 0.9997939489619184, 0.9999148265330773, 0.9996539458529283, 0.9996536496327102, 0.9993822769897507, 0.9999686079604708, 0.9999616172900032, 0.9999231196924007, 0.9996484006131674, 0.9998540997573081, 0.999831374363728, 0.9995508490072619, 0.999959869802748, 0.9989672407620562, 0.9998155108262463, 0.9999894659016011, 0.9990665163230661, 0.9998978646577399, 0.9998994353952818, 0.9999554355005283, 0.9999916383444957, 0.9999821586004324, 0.9998518425422477, 0.9998820042692297, 0.9989717426908392, 0.9994197315383777, 0.9998538782209624, 0.9998022400590575, 0.999707267624807, 0.9997176073564416, 0.999463829879927, 0.9999359189261803, 0.9992452723940717, 0.9998425528091192, 0.9999331656382391, 0.9999458423049639, 0.999781942166173, 0.9992811145549043, 0.9989958091670451, 0.9993779231211254, 0.9998436002554496, 0.9999130225563024, 0.9989059799700523, 0.999963292685198, 0.9999684393058083, 0.9993019207147766, 0.9993737283614594, 0.9998910594500685, 0.999928410790228, 0.9999942749388779, 0.9991170304939684, 0.999835495445691, 0.9999189230434375, 0.9998191710834734, 0.9999237048965652, 0.9998738882492064, 0.9993488278763576, 0.9999554738526346, 0.9999722080653288, 0.9994706904930691, 0.9999413020367307, 0.999920198644811, 0.9999602722125069, 0.9998612343027752, 0.9999751289392137, 0.9999448200170561, 0.9998725130812379, 0.9995688382563316, 0.9999797092173328, 0.9995144860161923, 0.9999924229868815, 0.9998720392507924, 0.9997726165900543, 0.999761432394124, 0.9995908887457915, 0.9999413259635612, 0.99998784039131, 0.9999606314069063, 0.9999729641637616, 0.9982445283498261, 0.9999850007354013, 0.9988383014363037, 0.9986146086657474, 0.9998858240327899, 0.9998875728067834, 0.9997992334813214, 0.999592013468473, 0.9998931228234458, 0.9998217667696794, 0.9988414190944613, 0.9994647737362347, 0.9998733194562129, 0.9998276619154054, 0.9998699447575576, 0.9999564177008953, 0.9997601726517916, 0.9996825505718565, 0.9999595779341134, 0.9999262435786267, 0.999576737347165, 0.9994437157048467, 0.9998702814996975, 0.999934621484258, 0.9999370065620952, 0.9998245467976306, 0.999788525504348, 0.9998290438019457, 0.9998272418558454, 0.9999691969566015, 0.999845284574694, 0.9998108345884554, 0.9999872668328429, 0.9999964910702976, 0.9998781315193791, 0.9997567540575314, 0.9999604197183024, 0.9999105550017532, 0.9998406125619074, 0.9996610180887007, 0.9996656828436543, 0.9999636513954203, 0.9998687798161545, 0.9997190449256509, 0.9998844610459185, 0.9996242845076951, 0.7783139804673912, 0.22163098551084168, 0.9995079227651182, 0.999818195698262, 0.9999753063260133, 0.9999680837526604, 0.9999296893271324, 0.9999065030249713, 0.9999700186969046, 0.9998996403631344, 0.9995898798059103, 0.9998143864810644, 0.9999152304899553, 0.9992915915777466, 0.9999518414785756, 0.9999594011599122, 0.9998503077617059, 0.9998875368395935, 0.9999377711125291, 0.9994962353595365, 0.9998730491142954, 0.9999762067159527, 0.9998360731456113, 0.999731518386327, 0.9992396975042767, 0.9998128415408581, 0.9999673264645546, 0.9999549336202221, 0.9999551348742971, 0.9999702156613094, 0.9999782017932088, 0.9999111555954288, 0.9998264793643313, 0.9993413803484746, 0.999859938627057, 0.9998439680927991, 0.9998754100380353, 0.9999694371260738, 0.9998789260533919, 0.9999923005321223, 0.9998557387468923, 0.9999480213050139, 0.9999600775354888, 0.9999104288400809, 0.9991377611038065], \"Term\": [\"able\", \"absolutely\", \"access\", \"accomodate\", \"accomodation\", \"advertise\", \"airbnb\", \"allow\", \"already\", \"also\", \"always\", \"amazing\", \"answer\", \"anywhere\", \"apartment\", \"app\", \"appartment\", \"appreciate\", \"area\", \"around\", \"arrival\", \"arrive\", \"atmosphere\", \"attend\", \"attention\", \"attentive\", \"attraction\", \"available\", \"away\", \"baby\", \"back\", \"bad\", \"bag\", \"bar\", \"basic\", \"bath\", \"bathroom\", \"beautiful\", \"beautifully\", \"bed\", \"bedroom\", \"big\", \"bit\", \"block\", \"book\", \"bother\", \"br\", \"break\", \"breakfast\", \"build\", \"building\", \"bus\", \"busy\", \"cafe\", \"cancel\", \"car\", \"care\", \"case\", \"ceiling\", \"centre\", \"chair\", \"check\", \"checkin\", \"checkout\", \"child\", \"choose\", \"clean\", \"clear\", \"close\", \"coffee\", \"come\", \"comfortable\", \"comfy\", \"communicate\", \"completely\", \"consider\", \"convenient\", \"conveniently\", \"corner\", \"cosy\", \"couple\", \"cozy\", \"day\", \"definitely\", \"delightful\", \"describe\", \"different\", \"difficult\", \"dining\", \"dinner\", \"dirty\", \"distance\", \"do\", \"door\", \"dream\", \"drink\", \"drive\", \"drop\", \"early\", \"ease\", \"easy\", \"eat\", \"end\", \"enjoyable\", \"enough\", \"ensure\", \"environment\", \"especially\", \"even\", \"evening\", \"event\", \"excellent\", \"expect\", \"expensive\", \"experience\", \"explore\", \"extra\", \"extremely\", \"fabulous\", \"face\", \"facility\", \"fall\", \"fantastic\", \"feel\", \"find\", \"fine\", \"first\", \"flat\", \"flexible\", \"floor\", \"food\", \"fresh\", \"friendly\", \"front\", \"full\", \"future\", \"garden\", \"gate\", \"get\", \"give\", \"go\", \"good\", \"great\", \"grocery\", \"grocery_store\", \"group\", \"guest\", \"handy\", \"happy\", \"hear\", \"heat\", \"help\", \"helpful\", \"high\", \"highly\", \"home\", \"homely\", \"host\", \"hot\", \"hour\", \"house\", \"however\", \"ideal\", \"instruction\", \"issue\", \"item\", \"keep\", \"key\", \"kind\", \"kitchen\", \"know\", \"large\", \"last\", \"late\", \"leave\", \"less\", \"let\", \"life\", \"light\", \"list\", \"literally\", \"little\", \"live\", \"living\", \"local\", \"location\", \"lock\", \"long\", \"look\", \"lovely\", \"main\", \"make\", \"manage\", \"many\", \"market\", \"mention\", \"metro\", \"min\", \"minute\", \"modern\", \"moment\", \"money\", \"morning\", \"move\", \"much\", \"music\", \"neat\", \"need\", \"neighbor\", \"neighbourhood\", \"new\", \"next\", \"nice\", \"night\", \"noise\", \"noisy\", \"obviously\", \"ok\", \"open\", \"option\", \"other\", \"outside\", \"outstanding\", \"overall\", \"overnight\", \"owner\", \"park\", \"parking\", \"part\", \"partner\", \"party\", \"patio\", \"pay\", \"peaceful\", \"penny\", \"people\", \"perfect\", \"personal\", \"personally\", \"photo\", \"picture\", \"place\", \"plant\", \"pleasant\", \"plenty\", \"polite\", \"price\", \"problem\", \"promptly\", \"property\", \"provide\", \"proximity\", \"public\", \"question\", \"quick\", \"quickly\", \"quiet\", \"quite\", \"reach\", \"ready\", \"really\", \"reasonable\", \"recommend\", \"recommendation\", \"relax\", \"request\", \"require\", \"respond\", \"responsive\", \"restaurant\", \"right\", \"roof\", \"room\", \"roomy\", \"rule\", \"safe\", \"say\", \"second\", \"secure\", \"see\", \"seem\", \"sensitive\", \"separate\", \"service\", \"several\", \"share\", \"shop\", \"shopping\", \"shoreditch\", \"short\", \"shower\", \"sit\", \"situate\", \"size\", \"sleep\", \"small\", \"smell\", \"smooth\", \"sofa\", \"soon\", \"space\", \"spotless\", \"stair\", \"station\", \"stay\", \"still\", \"stock\", \"stop\", \"street\", \"studio\", \"stylish\", \"summer\", \"super\", \"supermarket\", \"supply\", \"sure\", \"table\", \"take\", \"take\", \"talk\", \"tea\", \"thank\", \"thing\", \"think\", \"tidy\", \"time\", \"toilet\", \"totally\", \"touch\", \"towel\", \"traffic\", \"train\", \"transport\", \"transportation\", \"travel\", \"trip\", \"trouble\", \"try\", \"tube\", \"tv\", \"unfortunately\", \"unique\", \"unit\", \"use\", \"value\", \"view\", \"visit\", \"walk\", \"want\", \"warm\", \"watch\", \"water\", \"way\", \"weekend\", \"welcome\", \"welcoming\", \"well\", \"whole\", \"window\", \"work\", \"worth\", \"zone\"]}, \"R\": 30, \"lambda.step\": 0.01, \"plot.opts\": {\"xlab\": \"PC1\", \"ylab\": \"PC2\"}, \"topic.order\": [9, 2, 7, 12, 6, 5, 3, 11, 8, 1, 4, 10]};\n",
              "\n",
              "function LDAvis_load_lib(url, callback){\n",
              "  var s = document.createElement('script');\n",
              "  s.src = url;\n",
              "  s.async = true;\n",
              "  s.onreadystatechange = s.onload = callback;\n",
              "  s.onerror = function(){console.warn(\"failed to load library \" + url);};\n",
              "  document.getElementsByTagName(\"head\")[0].appendChild(s);\n",
              "}\n",
              "\n",
              "if(typeof(LDAvis) !== \"undefined\"){\n",
              "   // already loaded: just create the visualization\n",
              "   !function(LDAvis){\n",
              "       new LDAvis(\"#\" + \"ldavis_el101011337124520852163035464989\", ldavis_el101011337124520852163035464989_data);\n",
              "   }(LDAvis);\n",
              "}else if(typeof define === \"function\" && define.amd){\n",
              "   // require.js is available: use it to load d3/LDAvis\n",
              "   require.config({paths: {d3: \"https://d3js.org/d3.v5\"}});\n",
              "   require([\"d3\"], function(d3){\n",
              "      window.d3 = d3;\n",
              "      LDAvis_load_lib(\"https://cdn.jsdelivr.net/gh/bmabey/pyLDAvis@3.4.0/pyLDAvis/js/ldavis.v3.0.0.js\", function(){\n",
              "        new LDAvis(\"#\" + \"ldavis_el101011337124520852163035464989\", ldavis_el101011337124520852163035464989_data);\n",
              "      });\n",
              "    });\n",
              "}else{\n",
              "    // require.js not available: dynamically load d3 & LDAvis\n",
              "    LDAvis_load_lib(\"https://d3js.org/d3.v5.js\", function(){\n",
              "         LDAvis_load_lib(\"https://cdn.jsdelivr.net/gh/bmabey/pyLDAvis@3.4.0/pyLDAvis/js/ldavis.v3.0.0.js\", function(){\n",
              "                 new LDAvis(\"#\" + \"ldavis_el101011337124520852163035464989\", ldavis_el101011337124520852163035464989_data);\n",
              "            })\n",
              "         });\n",
              "}\n",
              "</script>"
            ]
          },
          "metadata": {},
          "execution_count": 27
        }
      ]
    },
    {
      "cell_type": "code",
      "source": [
        "# Export the visualization as a html file.\n",
        "pyLDAvis.save_html(visualization, 'drive/My Drive/Colab Notebooks/LDAModel12.html')"
      ],
      "metadata": {
        "id": "mfgwI5B-k_Dt"
      },
      "execution_count": 29,
      "outputs": []
    }
  ]
}